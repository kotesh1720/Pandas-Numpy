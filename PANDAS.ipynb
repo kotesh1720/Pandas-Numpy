{
 "cells": [
  {
   "cell_type": "code",
   "execution_count": 1,
   "id": "a8415737",
   "metadata": {},
   "outputs": [],
   "source": [
    "!jt -t monokai"
   ]
  },
  {
   "cell_type": "markdown",
   "id": "5a9a2251",
   "metadata": {},
   "source": [
    "# Pandas\n",
    "\n",
    "Pandas provides numerous tools to work with tabular data like you'd find in spreadsheets or databases. It is widely used for data preparation, cleaning, and analysis. It can work with a wide variety of data and provides many visualization options. It is built on top of NumPy."
   ]
  },
  {
   "cell_type": "markdown",
   "id": "52a94a53",
   "metadata": {},
   "source": [
    "# DataFrame Basics Tutorial"
   ]
  },
  {
   "cell_type": "markdown",
   "id": "35fbc0f0",
   "metadata": {},
   "source": [
    "Data is a main object in pandas.it is used to represent data with rows and columns (tabular or excel spreadsheet like data)"
   ]
  },
  {
   "cell_type": "code",
   "execution_count": 5,
   "id": "6c3690bb",
   "metadata": {},
   "outputs": [],
   "source": [
    "import pandas as  pd \n",
    "import numpy as np \n",
    "%reload_ext autoreload\n",
    "%autoreload 2"
   ]
  },
  {
   "cell_type": "code",
   "execution_count": 6,
   "id": "85b131b9",
   "metadata": {},
   "outputs": [
    {
     "data": {
      "text/html": [
       "<div>\n",
       "<style scoped>\n",
       "    .dataframe tbody tr th:only-of-type {\n",
       "        vertical-align: middle;\n",
       "    }\n",
       "\n",
       "    .dataframe tbody tr th {\n",
       "        vertical-align: top;\n",
       "    }\n",
       "\n",
       "    .dataframe thead th {\n",
       "        text-align: right;\n",
       "    }\n",
       "</style>\n",
       "<table border=\"1\" class=\"dataframe\">\n",
       "  <thead>\n",
       "    <tr style=\"text-align: right;\">\n",
       "      <th></th>\n",
       "      <th>Day</th>\n",
       "      <th>Temperature</th>\n",
       "      <th>Wind speed</th>\n",
       "      <th>Event</th>\n",
       "    </tr>\n",
       "  </thead>\n",
       "  <tbody>\n",
       "    <tr>\n",
       "      <th>1</th>\n",
       "      <td>1/1/2023</td>\n",
       "      <td>33</td>\n",
       "      <td>6</td>\n",
       "      <td>rain</td>\n",
       "    </tr>\n",
       "    <tr>\n",
       "      <th>2</th>\n",
       "      <td>1/2/2023</td>\n",
       "      <td>35</td>\n",
       "      <td>5</td>\n",
       "      <td>snow</td>\n",
       "    </tr>\n",
       "    <tr>\n",
       "      <th>3</th>\n",
       "      <td>1/3/2023</td>\n",
       "      <td>37</td>\n",
       "      <td>8</td>\n",
       "      <td>hot</td>\n",
       "    </tr>\n",
       "    <tr>\n",
       "      <th>4</th>\n",
       "      <td>1/4/2023</td>\n",
       "      <td>38</td>\n",
       "      <td>4</td>\n",
       "      <td>sunny</td>\n",
       "    </tr>\n",
       "    <tr>\n",
       "      <th>5</th>\n",
       "      <td>1/5/2023</td>\n",
       "      <td>39</td>\n",
       "      <td>6</td>\n",
       "      <td>hot</td>\n",
       "    </tr>\n",
       "    <tr>\n",
       "      <th>6</th>\n",
       "      <td>1/6/2023</td>\n",
       "      <td>40</td>\n",
       "      <td>7</td>\n",
       "      <td>rain</td>\n",
       "    </tr>\n",
       "  </tbody>\n",
       "</table>\n",
       "</div>"
      ],
      "text/plain": [
       "        Day  Temperature  Wind speed  Event\n",
       "1  1/1/2023           33           6   rain\n",
       "2  1/2/2023           35           5   snow\n",
       "3  1/3/2023           37           8    hot\n",
       "4  1/4/2023           38           4  sunny\n",
       "5  1/5/2023           39           6    hot\n",
       "6  1/6/2023           40           7   rain"
      ]
     },
     "execution_count": 6,
     "metadata": {},
     "output_type": "execute_result"
    }
   ],
   "source": [
    "weather_df = pd.DataFrame({\n",
    "    'Day' : ['1/1/2023','1/2/2023','1/3/2023','1/4/2023','1/5/2023','1/6/2023'],\n",
    "    'Temperature' : [33,35,37,38,39,40],\n",
    "    'Wind speed'  : [6,5,8,4,6,7],\n",
    "    'Event'   : ['rain','snow','hot','sunny','hot','rain']\n",
    "})\n",
    "weather_df.index +=1\n",
    "weather_df"
   ]
  },
  {
   "cell_type": "code",
   "execution_count": 7,
   "id": "948aa3f7",
   "metadata": {},
   "outputs": [
    {
     "data": {
      "text/plain": [
       "(6, 4)"
      ]
     },
     "execution_count": 7,
     "metadata": {},
     "output_type": "execute_result"
    }
   ],
   "source": [
    "weather_df.shape"
   ]
  },
  {
   "cell_type": "code",
   "execution_count": 8,
   "id": "6e795ab1",
   "metadata": {},
   "outputs": [],
   "source": [
    "rows,columns = weather_df.shape"
   ]
  },
  {
   "cell_type": "code",
   "execution_count": 9,
   "id": "405b2eb2",
   "metadata": {},
   "outputs": [
    {
     "data": {
      "text/plain": [
       "(6, 4)"
      ]
     },
     "execution_count": 9,
     "metadata": {},
     "output_type": "execute_result"
    }
   ],
   "source": [
    "rows,columns"
   ]
  },
  {
   "cell_type": "markdown",
   "id": "6e9a9652",
   "metadata": {},
   "source": [
    "# Rows"
   ]
  },
  {
   "cell_type": "code",
   "execution_count": 10,
   "id": "dc54948c",
   "metadata": {},
   "outputs": [
    {
     "data": {
      "text/html": [
       "<div>\n",
       "<style scoped>\n",
       "    .dataframe tbody tr th:only-of-type {\n",
       "        vertical-align: middle;\n",
       "    }\n",
       "\n",
       "    .dataframe tbody tr th {\n",
       "        vertical-align: top;\n",
       "    }\n",
       "\n",
       "    .dataframe thead th {\n",
       "        text-align: right;\n",
       "    }\n",
       "</style>\n",
       "<table border=\"1\" class=\"dataframe\">\n",
       "  <thead>\n",
       "    <tr style=\"text-align: right;\">\n",
       "      <th></th>\n",
       "      <th>Day</th>\n",
       "      <th>Temperature</th>\n",
       "      <th>Wind speed</th>\n",
       "      <th>Event</th>\n",
       "    </tr>\n",
       "  </thead>\n",
       "  <tbody>\n",
       "    <tr>\n",
       "      <th>1</th>\n",
       "      <td>1/1/2023</td>\n",
       "      <td>33</td>\n",
       "      <td>6</td>\n",
       "      <td>rain</td>\n",
       "    </tr>\n",
       "    <tr>\n",
       "      <th>2</th>\n",
       "      <td>1/2/2023</td>\n",
       "      <td>35</td>\n",
       "      <td>5</td>\n",
       "      <td>snow</td>\n",
       "    </tr>\n",
       "  </tbody>\n",
       "</table>\n",
       "</div>"
      ],
      "text/plain": [
       "        Day  Temperature  Wind speed Event\n",
       "1  1/1/2023           33           6  rain\n",
       "2  1/2/2023           35           5  snow"
      ]
     },
     "execution_count": 10,
     "metadata": {},
     "output_type": "execute_result"
    }
   ],
   "source": [
    "weather_df.head(2)"
   ]
  },
  {
   "cell_type": "code",
   "execution_count": 11,
   "id": "4c9deee4",
   "metadata": {},
   "outputs": [
    {
     "data": {
      "text/html": [
       "<div>\n",
       "<style scoped>\n",
       "    .dataframe tbody tr th:only-of-type {\n",
       "        vertical-align: middle;\n",
       "    }\n",
       "\n",
       "    .dataframe tbody tr th {\n",
       "        vertical-align: top;\n",
       "    }\n",
       "\n",
       "    .dataframe thead th {\n",
       "        text-align: right;\n",
       "    }\n",
       "</style>\n",
       "<table border=\"1\" class=\"dataframe\">\n",
       "  <thead>\n",
       "    <tr style=\"text-align: right;\">\n",
       "      <th></th>\n",
       "      <th>Day</th>\n",
       "      <th>Temperature</th>\n",
       "      <th>Wind speed</th>\n",
       "      <th>Event</th>\n",
       "    </tr>\n",
       "  </thead>\n",
       "  <tbody>\n",
       "    <tr>\n",
       "      <th>5</th>\n",
       "      <td>1/5/2023</td>\n",
       "      <td>39</td>\n",
       "      <td>6</td>\n",
       "      <td>hot</td>\n",
       "    </tr>\n",
       "    <tr>\n",
       "      <th>6</th>\n",
       "      <td>1/6/2023</td>\n",
       "      <td>40</td>\n",
       "      <td>7</td>\n",
       "      <td>rain</td>\n",
       "    </tr>\n",
       "  </tbody>\n",
       "</table>\n",
       "</div>"
      ],
      "text/plain": [
       "        Day  Temperature  Wind speed Event\n",
       "5  1/5/2023           39           6   hot\n",
       "6  1/6/2023           40           7  rain"
      ]
     },
     "execution_count": 11,
     "metadata": {},
     "output_type": "execute_result"
    }
   ],
   "source": [
    "weather_df.tail(2)"
   ]
  },
  {
   "cell_type": "markdown",
   "id": "c1939527",
   "metadata": {},
   "source": [
    "# columns"
   ]
  },
  {
   "cell_type": "code",
   "execution_count": 12,
   "id": "f63ab98a",
   "metadata": {},
   "outputs": [
    {
     "data": {
      "text/plain": [
       "Index(['Day', 'Temperature', 'Wind speed', 'Event'], dtype='object')"
      ]
     },
     "execution_count": 12,
     "metadata": {},
     "output_type": "execute_result"
    }
   ],
   "source": [
    "#  print No.of columns \n",
    "weather_df.columns  "
   ]
  },
  {
   "cell_type": "code",
   "execution_count": 13,
   "id": "40526d69",
   "metadata": {},
   "outputs": [
    {
     "data": {
      "text/plain": [
       "1     rain\n",
       "2     snow\n",
       "3      hot\n",
       "4    sunny\n",
       "5      hot\n",
       "6     rain\n",
       "Name: Event, dtype: object"
      ]
     },
     "execution_count": 13,
     "metadata": {},
     "output_type": "execute_result"
    }
   ],
   "source": [
    "weather_df.Event"
   ]
  },
  {
   "cell_type": "code",
   "execution_count": 14,
   "id": "303bdbb0",
   "metadata": {},
   "outputs": [
    {
     "data": {
      "text/plain": [
       "1    1/1/2023\n",
       "2    1/2/2023\n",
       "3    1/3/2023\n",
       "4    1/4/2023\n",
       "5    1/5/2023\n",
       "6    1/6/2023\n",
       "Name: Day, dtype: object"
      ]
     },
     "execution_count": 14,
     "metadata": {},
     "output_type": "execute_result"
    }
   ],
   "source": [
    "weather_df.Day"
   ]
  },
  {
   "cell_type": "code",
   "execution_count": 15,
   "id": "563529de",
   "metadata": {},
   "outputs": [
    {
     "data": {
      "text/html": [
       "<div>\n",
       "<style scoped>\n",
       "    .dataframe tbody tr th:only-of-type {\n",
       "        vertical-align: middle;\n",
       "    }\n",
       "\n",
       "    .dataframe tbody tr th {\n",
       "        vertical-align: top;\n",
       "    }\n",
       "\n",
       "    .dataframe thead th {\n",
       "        text-align: right;\n",
       "    }\n",
       "</style>\n",
       "<table border=\"1\" class=\"dataframe\">\n",
       "  <thead>\n",
       "    <tr style=\"text-align: right;\">\n",
       "      <th></th>\n",
       "      <th>Temperature</th>\n",
       "      <th>Day</th>\n",
       "      <th>Event</th>\n",
       "    </tr>\n",
       "  </thead>\n",
       "  <tbody>\n",
       "    <tr>\n",
       "      <th>1</th>\n",
       "      <td>33</td>\n",
       "      <td>1/1/2023</td>\n",
       "      <td>rain</td>\n",
       "    </tr>\n",
       "    <tr>\n",
       "      <th>2</th>\n",
       "      <td>35</td>\n",
       "      <td>1/2/2023</td>\n",
       "      <td>snow</td>\n",
       "    </tr>\n",
       "    <tr>\n",
       "      <th>3</th>\n",
       "      <td>37</td>\n",
       "      <td>1/3/2023</td>\n",
       "      <td>hot</td>\n",
       "    </tr>\n",
       "    <tr>\n",
       "      <th>4</th>\n",
       "      <td>38</td>\n",
       "      <td>1/4/2023</td>\n",
       "      <td>sunny</td>\n",
       "    </tr>\n",
       "    <tr>\n",
       "      <th>5</th>\n",
       "      <td>39</td>\n",
       "      <td>1/5/2023</td>\n",
       "      <td>hot</td>\n",
       "    </tr>\n",
       "    <tr>\n",
       "      <th>6</th>\n",
       "      <td>40</td>\n",
       "      <td>1/6/2023</td>\n",
       "      <td>rain</td>\n",
       "    </tr>\n",
       "  </tbody>\n",
       "</table>\n",
       "</div>"
      ],
      "text/plain": [
       "   Temperature       Day  Event\n",
       "1           33  1/1/2023   rain\n",
       "2           35  1/2/2023   snow\n",
       "3           37  1/3/2023    hot\n",
       "4           38  1/4/2023  sunny\n",
       "5           39  1/5/2023    hot\n",
       "6           40  1/6/2023   rain"
      ]
     },
     "execution_count": 15,
     "metadata": {},
     "output_type": "execute_result"
    }
   ],
   "source": [
    "# print only few columns we want\n",
    "weather_df[['Temperature','Day','Event']]"
   ]
  },
  {
   "cell_type": "code",
   "execution_count": 16,
   "id": "07d53156",
   "metadata": {},
   "outputs": [
    {
     "data": {
      "text/html": [
       "<div>\n",
       "<style scoped>\n",
       "    .dataframe tbody tr th:only-of-type {\n",
       "        vertical-align: middle;\n",
       "    }\n",
       "\n",
       "    .dataframe tbody tr th {\n",
       "        vertical-align: top;\n",
       "    }\n",
       "\n",
       "    .dataframe thead th {\n",
       "        text-align: right;\n",
       "    }\n",
       "</style>\n",
       "<table border=\"1\" class=\"dataframe\">\n",
       "  <thead>\n",
       "    <tr style=\"text-align: right;\">\n",
       "      <th></th>\n",
       "      <th>Temperature</th>\n",
       "      <th>Wind speed</th>\n",
       "    </tr>\n",
       "  </thead>\n",
       "  <tbody>\n",
       "    <tr>\n",
       "      <th>count</th>\n",
       "      <td>6.000000</td>\n",
       "      <td>6.000000</td>\n",
       "    </tr>\n",
       "    <tr>\n",
       "      <th>mean</th>\n",
       "      <td>37.000000</td>\n",
       "      <td>6.000000</td>\n",
       "    </tr>\n",
       "    <tr>\n",
       "      <th>std</th>\n",
       "      <td>2.607681</td>\n",
       "      <td>1.414214</td>\n",
       "    </tr>\n",
       "    <tr>\n",
       "      <th>min</th>\n",
       "      <td>33.000000</td>\n",
       "      <td>4.000000</td>\n",
       "    </tr>\n",
       "    <tr>\n",
       "      <th>25%</th>\n",
       "      <td>35.500000</td>\n",
       "      <td>5.250000</td>\n",
       "    </tr>\n",
       "    <tr>\n",
       "      <th>50%</th>\n",
       "      <td>37.500000</td>\n",
       "      <td>6.000000</td>\n",
       "    </tr>\n",
       "    <tr>\n",
       "      <th>75%</th>\n",
       "      <td>38.750000</td>\n",
       "      <td>6.750000</td>\n",
       "    </tr>\n",
       "    <tr>\n",
       "      <th>max</th>\n",
       "      <td>40.000000</td>\n",
       "      <td>8.000000</td>\n",
       "    </tr>\n",
       "  </tbody>\n",
       "</table>\n",
       "</div>"
      ],
      "text/plain": [
       "       Temperature  Wind speed\n",
       "count     6.000000    6.000000\n",
       "mean     37.000000    6.000000\n",
       "std       2.607681    1.414214\n",
       "min      33.000000    4.000000\n",
       "25%      35.500000    5.250000\n",
       "50%      37.500000    6.000000\n",
       "75%      38.750000    6.750000\n",
       "max      40.000000    8.000000"
      ]
     },
     "execution_count": 16,
     "metadata": {},
     "output_type": "execute_result"
    }
   ],
   "source": [
    "weather_df.describe()    # include=\"all\" function in describe() "
   ]
  },
  {
   "cell_type": "code",
   "execution_count": 17,
   "id": "e1cb03aa",
   "metadata": {},
   "outputs": [
    {
     "data": {
      "text/html": [
       "<div>\n",
       "<style scoped>\n",
       "    .dataframe tbody tr th:only-of-type {\n",
       "        vertical-align: middle;\n",
       "    }\n",
       "\n",
       "    .dataframe tbody tr th {\n",
       "        vertical-align: top;\n",
       "    }\n",
       "\n",
       "    .dataframe thead th {\n",
       "        text-align: right;\n",
       "    }\n",
       "</style>\n",
       "<table border=\"1\" class=\"dataframe\">\n",
       "  <thead>\n",
       "    <tr style=\"text-align: right;\">\n",
       "      <th></th>\n",
       "      <th>Day</th>\n",
       "      <th>Temperature</th>\n",
       "      <th>Wind speed</th>\n",
       "      <th>Event</th>\n",
       "    </tr>\n",
       "  </thead>\n",
       "  <tbody>\n",
       "    <tr>\n",
       "      <th>3</th>\n",
       "      <td>1/3/2023</td>\n",
       "      <td>37</td>\n",
       "      <td>8</td>\n",
       "      <td>hot</td>\n",
       "    </tr>\n",
       "    <tr>\n",
       "      <th>4</th>\n",
       "      <td>1/4/2023</td>\n",
       "      <td>38</td>\n",
       "      <td>4</td>\n",
       "      <td>sunny</td>\n",
       "    </tr>\n",
       "    <tr>\n",
       "      <th>5</th>\n",
       "      <td>1/5/2023</td>\n",
       "      <td>39</td>\n",
       "      <td>6</td>\n",
       "      <td>hot</td>\n",
       "    </tr>\n",
       "    <tr>\n",
       "      <th>6</th>\n",
       "      <td>1/6/2023</td>\n",
       "      <td>40</td>\n",
       "      <td>7</td>\n",
       "      <td>rain</td>\n",
       "    </tr>\n",
       "  </tbody>\n",
       "</table>\n",
       "</div>"
      ],
      "text/plain": [
       "        Day  Temperature  Wind speed  Event\n",
       "3  1/3/2023           37           8    hot\n",
       "4  1/4/2023           38           4  sunny\n",
       "5  1/5/2023           39           6    hot\n",
       "6  1/6/2023           40           7   rain"
      ]
     },
     "execution_count": 17,
     "metadata": {},
     "output_type": "execute_result"
    }
   ],
   "source": [
    "weather_df[weather_df.Temperature > 35]"
   ]
  },
  {
   "cell_type": "code",
   "execution_count": 18,
   "id": "8d851268",
   "metadata": {},
   "outputs": [
    {
     "data": {
      "text/html": [
       "<div>\n",
       "<style scoped>\n",
       "    .dataframe tbody tr th:only-of-type {\n",
       "        vertical-align: middle;\n",
       "    }\n",
       "\n",
       "    .dataframe tbody tr th {\n",
       "        vertical-align: top;\n",
       "    }\n",
       "\n",
       "    .dataframe thead th {\n",
       "        text-align: right;\n",
       "    }\n",
       "</style>\n",
       "<table border=\"1\" class=\"dataframe\">\n",
       "  <thead>\n",
       "    <tr style=\"text-align: right;\">\n",
       "      <th></th>\n",
       "      <th>Day</th>\n",
       "      <th>Temperature</th>\n",
       "      <th>Wind speed</th>\n",
       "      <th>Event</th>\n",
       "    </tr>\n",
       "  </thead>\n",
       "  <tbody>\n",
       "    <tr>\n",
       "      <th>6</th>\n",
       "      <td>1/6/2023</td>\n",
       "      <td>40</td>\n",
       "      <td>7</td>\n",
       "      <td>rain</td>\n",
       "    </tr>\n",
       "  </tbody>\n",
       "</table>\n",
       "</div>"
      ],
      "text/plain": [
       "        Day  Temperature  Wind speed Event\n",
       "6  1/6/2023           40           7  rain"
      ]
     },
     "execution_count": 18,
     "metadata": {},
     "output_type": "execute_result"
    }
   ],
   "source": [
    "weather_df[weather_df.Temperature == weather_df.Temperature.max()] \n",
    "# if we have space in column name we should use this \n",
    "#wather_df[wather_df.Temperature == wather_df.['Temperature'].max()] "
   ]
  },
  {
   "cell_type": "code",
   "execution_count": 19,
   "id": "10a0c039",
   "metadata": {},
   "outputs": [
    {
     "data": {
      "text/html": [
       "<div>\n",
       "<style scoped>\n",
       "    .dataframe tbody tr th:only-of-type {\n",
       "        vertical-align: middle;\n",
       "    }\n",
       "\n",
       "    .dataframe tbody tr th {\n",
       "        vertical-align: top;\n",
       "    }\n",
       "\n",
       "    .dataframe thead th {\n",
       "        text-align: right;\n",
       "    }\n",
       "</style>\n",
       "<table border=\"1\" class=\"dataframe\">\n",
       "  <thead>\n",
       "    <tr style=\"text-align: right;\">\n",
       "      <th></th>\n",
       "      <th>Day</th>\n",
       "      <th>Temperature</th>\n",
       "    </tr>\n",
       "  </thead>\n",
       "  <tbody>\n",
       "    <tr>\n",
       "      <th>6</th>\n",
       "      <td>1/6/2023</td>\n",
       "      <td>40</td>\n",
       "    </tr>\n",
       "  </tbody>\n",
       "</table>\n",
       "</div>"
      ],
      "text/plain": [
       "        Day  Temperature\n",
       "6  1/6/2023           40"
      ]
     },
     "execution_count": 19,
     "metadata": {},
     "output_type": "execute_result"
    }
   ],
   "source": [
    "weather_df[['Day','Temperature']][weather_df.Temperature==weather_df['Temperature'].max()]"
   ]
  },
  {
   "cell_type": "markdown",
   "id": "ab31e3a8",
   "metadata": {},
   "source": [
    "# set_index"
   ]
  },
  {
   "cell_type": "code",
   "execution_count": 20,
   "id": "61f78496",
   "metadata": {
    "scrolled": true
   },
   "outputs": [
    {
     "data": {
      "text/html": [
       "<div>\n",
       "<style scoped>\n",
       "    .dataframe tbody tr th:only-of-type {\n",
       "        vertical-align: middle;\n",
       "    }\n",
       "\n",
       "    .dataframe tbody tr th {\n",
       "        vertical-align: top;\n",
       "    }\n",
       "\n",
       "    .dataframe thead th {\n",
       "        text-align: right;\n",
       "    }\n",
       "</style>\n",
       "<table border=\"1\" class=\"dataframe\">\n",
       "  <thead>\n",
       "    <tr style=\"text-align: right;\">\n",
       "      <th></th>\n",
       "      <th>Temperature</th>\n",
       "      <th>Wind speed</th>\n",
       "      <th>Event</th>\n",
       "    </tr>\n",
       "    <tr>\n",
       "      <th>Day</th>\n",
       "      <th></th>\n",
       "      <th></th>\n",
       "      <th></th>\n",
       "    </tr>\n",
       "  </thead>\n",
       "  <tbody>\n",
       "    <tr>\n",
       "      <th>1/1/2023</th>\n",
       "      <td>33</td>\n",
       "      <td>6</td>\n",
       "      <td>rain</td>\n",
       "    </tr>\n",
       "    <tr>\n",
       "      <th>1/2/2023</th>\n",
       "      <td>35</td>\n",
       "      <td>5</td>\n",
       "      <td>snow</td>\n",
       "    </tr>\n",
       "    <tr>\n",
       "      <th>1/3/2023</th>\n",
       "      <td>37</td>\n",
       "      <td>8</td>\n",
       "      <td>hot</td>\n",
       "    </tr>\n",
       "    <tr>\n",
       "      <th>1/4/2023</th>\n",
       "      <td>38</td>\n",
       "      <td>4</td>\n",
       "      <td>sunny</td>\n",
       "    </tr>\n",
       "    <tr>\n",
       "      <th>1/5/2023</th>\n",
       "      <td>39</td>\n",
       "      <td>6</td>\n",
       "      <td>hot</td>\n",
       "    </tr>\n",
       "    <tr>\n",
       "      <th>1/6/2023</th>\n",
       "      <td>40</td>\n",
       "      <td>7</td>\n",
       "      <td>rain</td>\n",
       "    </tr>\n",
       "  </tbody>\n",
       "</table>\n",
       "</div>"
      ],
      "text/plain": [
       "          Temperature  Wind speed  Event\n",
       "Day                                     \n",
       "1/1/2023           33           6   rain\n",
       "1/2/2023           35           5   snow\n",
       "1/3/2023           37           8    hot\n",
       "1/4/2023           38           4  sunny\n",
       "1/5/2023           39           6    hot\n",
       "1/6/2023           40           7   rain"
      ]
     },
     "execution_count": 20,
     "metadata": {},
     "output_type": "execute_result"
    }
   ],
   "source": [
    "weather_df.set_index('Day',inplace=True)\n",
    "weather_df"
   ]
  },
  {
   "cell_type": "code",
   "execution_count": 21,
   "id": "c0bbe0bd",
   "metadata": {},
   "outputs": [
    {
     "data": {
      "text/plain": [
       "Temperature     37\n",
       "Wind speed       8\n",
       "Event          hot\n",
       "Name: 1/3/2023, dtype: object"
      ]
     },
     "execution_count": 21,
     "metadata": {},
     "output_type": "execute_result"
    }
   ],
   "source": [
    "weather_df.loc['1/3/2023']"
   ]
  },
  {
   "cell_type": "code",
   "execution_count": 22,
   "id": "0f23e6d7",
   "metadata": {},
   "outputs": [],
   "source": [
    "# reset index \n",
    "weather_df.reset_index(inplace=True)"
   ]
  },
  {
   "cell_type": "code",
   "execution_count": 23,
   "id": "3b7adf56",
   "metadata": {},
   "outputs": [
    {
     "data": {
      "text/html": [
       "<div>\n",
       "<style scoped>\n",
       "    .dataframe tbody tr th:only-of-type {\n",
       "        vertical-align: middle;\n",
       "    }\n",
       "\n",
       "    .dataframe tbody tr th {\n",
       "        vertical-align: top;\n",
       "    }\n",
       "\n",
       "    .dataframe thead th {\n",
       "        text-align: right;\n",
       "    }\n",
       "</style>\n",
       "<table border=\"1\" class=\"dataframe\">\n",
       "  <thead>\n",
       "    <tr style=\"text-align: right;\">\n",
       "      <th></th>\n",
       "      <th>Day</th>\n",
       "      <th>Temperature</th>\n",
       "      <th>Wind speed</th>\n",
       "      <th>Event</th>\n",
       "    </tr>\n",
       "  </thead>\n",
       "  <tbody>\n",
       "    <tr>\n",
       "      <th>1</th>\n",
       "      <td>1/1/2023</td>\n",
       "      <td>33</td>\n",
       "      <td>6</td>\n",
       "      <td>rain</td>\n",
       "    </tr>\n",
       "    <tr>\n",
       "      <th>2</th>\n",
       "      <td>1/2/2023</td>\n",
       "      <td>35</td>\n",
       "      <td>5</td>\n",
       "      <td>snow</td>\n",
       "    </tr>\n",
       "    <tr>\n",
       "      <th>3</th>\n",
       "      <td>1/3/2023</td>\n",
       "      <td>37</td>\n",
       "      <td>8</td>\n",
       "      <td>hot</td>\n",
       "    </tr>\n",
       "    <tr>\n",
       "      <th>4</th>\n",
       "      <td>1/4/2023</td>\n",
       "      <td>38</td>\n",
       "      <td>4</td>\n",
       "      <td>sunny</td>\n",
       "    </tr>\n",
       "    <tr>\n",
       "      <th>5</th>\n",
       "      <td>1/5/2023</td>\n",
       "      <td>39</td>\n",
       "      <td>6</td>\n",
       "      <td>hot</td>\n",
       "    </tr>\n",
       "    <tr>\n",
       "      <th>6</th>\n",
       "      <td>1/6/2023</td>\n",
       "      <td>40</td>\n",
       "      <td>7</td>\n",
       "      <td>rain</td>\n",
       "    </tr>\n",
       "  </tbody>\n",
       "</table>\n",
       "</div>"
      ],
      "text/plain": [
       "        Day  Temperature  Wind speed  Event\n",
       "1  1/1/2023           33           6   rain\n",
       "2  1/2/2023           35           5   snow\n",
       "3  1/3/2023           37           8    hot\n",
       "4  1/4/2023           38           4  sunny\n",
       "5  1/5/2023           39           6    hot\n",
       "6  1/6/2023           40           7   rain"
      ]
     },
     "execution_count": 23,
     "metadata": {},
     "output_type": "execute_result"
    }
   ],
   "source": [
    "weather_df.index +=1\n",
    "weather_df"
   ]
  },
  {
   "cell_type": "code",
   "execution_count": 24,
   "id": "3457deb3",
   "metadata": {},
   "outputs": [],
   "source": [
    "import pandas as pd"
   ]
  },
  {
   "cell_type": "code",
   "execution_count": 25,
   "id": "ec726048",
   "metadata": {},
   "outputs": [
    {
     "data": {
      "text/html": [
       "<div>\n",
       "<style scoped>\n",
       "    .dataframe tbody tr th:only-of-type {\n",
       "        vertical-align: middle;\n",
       "    }\n",
       "\n",
       "    .dataframe tbody tr th {\n",
       "        vertical-align: top;\n",
       "    }\n",
       "\n",
       "    .dataframe thead th {\n",
       "        text-align: right;\n",
       "    }\n",
       "</style>\n",
       "<table border=\"1\" class=\"dataframe\">\n",
       "  <thead>\n",
       "    <tr style=\"text-align: right;\">\n",
       "      <th></th>\n",
       "      <th>day</th>\n",
       "      <th>tempereture</th>\n",
       "      <th>windspeed</th>\n",
       "      <th>event</th>\n",
       "    </tr>\n",
       "  </thead>\n",
       "  <tbody>\n",
       "    <tr>\n",
       "      <th>1</th>\n",
       "      <td>2023-01-01</td>\n",
       "      <td>32.00</td>\n",
       "      <td>6.0</td>\n",
       "      <td>rain</td>\n",
       "    </tr>\n",
       "    <tr>\n",
       "      <th>2</th>\n",
       "      <td>2023-01-04</td>\n",
       "      <td>NaN</td>\n",
       "      <td>4.0</td>\n",
       "      <td>sunny</td>\n",
       "    </tr>\n",
       "    <tr>\n",
       "      <th>3</th>\n",
       "      <td>2023-01-05</td>\n",
       "      <td>28.30</td>\n",
       "      <td>NaN</td>\n",
       "      <td>snow</td>\n",
       "    </tr>\n",
       "    <tr>\n",
       "      <th>4</th>\n",
       "      <td>2023-01-06</td>\n",
       "      <td>24.00</td>\n",
       "      <td>4.5</td>\n",
       "      <td>NaN</td>\n",
       "    </tr>\n",
       "    <tr>\n",
       "      <th>5</th>\n",
       "      <td>2023-01-07</td>\n",
       "      <td>34.23</td>\n",
       "      <td>5.2</td>\n",
       "      <td>rain</td>\n",
       "    </tr>\n",
       "    <tr>\n",
       "      <th>6</th>\n",
       "      <td>2023-01-08</td>\n",
       "      <td>33.00</td>\n",
       "      <td>NaN</td>\n",
       "      <td>sunny</td>\n",
       "    </tr>\n",
       "    <tr>\n",
       "      <th>7</th>\n",
       "      <td>2023-01-09</td>\n",
       "      <td>NaN</td>\n",
       "      <td>2.0</td>\n",
       "      <td>snow</td>\n",
       "    </tr>\n",
       "    <tr>\n",
       "      <th>8</th>\n",
       "      <td>2023-01-10</td>\n",
       "      <td>NaN</td>\n",
       "      <td>NaN</td>\n",
       "      <td>NaN</td>\n",
       "    </tr>\n",
       "    <tr>\n",
       "      <th>9</th>\n",
       "      <td>2023-01-11</td>\n",
       "      <td>15.40</td>\n",
       "      <td>NaN</td>\n",
       "      <td>rain</td>\n",
       "    </tr>\n",
       "    <tr>\n",
       "      <th>10</th>\n",
       "      <td>2023-01-12</td>\n",
       "      <td>NaN</td>\n",
       "      <td>5.9</td>\n",
       "      <td>hot</td>\n",
       "    </tr>\n",
       "  </tbody>\n",
       "</table>\n",
       "</div>"
      ],
      "text/plain": [
       "          day  tempereture  windspeed  event\n",
       "1  2023-01-01        32.00        6.0   rain\n",
       "2  2023-01-04          NaN        4.0  sunny\n",
       "3  2023-01-05        28.30        NaN   snow\n",
       "4  2023-01-06        24.00        4.5    NaN\n",
       "5  2023-01-07        34.23        5.2   rain\n",
       "6  2023-01-08        33.00        NaN  sunny\n",
       "7  2023-01-09          NaN        2.0   snow\n",
       "8  2023-01-10          NaN        NaN    NaN\n",
       "9  2023-01-11        15.40        NaN   rain\n",
       "10 2023-01-12          NaN        5.9    hot"
      ]
     },
     "execution_count": 25,
     "metadata": {},
     "output_type": "execute_result"
    }
   ],
   "source": [
    "df = pd.read_excel(r\"C:\\Users\\kotesh\\OneDrive\\Documents\\weather.xlsx\")\n",
    "df.index +=1\n",
    "df"
   ]
  },
  {
   "cell_type": "code",
   "execution_count": 26,
   "id": "3a45d5a5",
   "metadata": {},
   "outputs": [
    {
     "data": {
      "text/html": [
       "<div>\n",
       "<style scoped>\n",
       "    .dataframe tbody tr th:only-of-type {\n",
       "        vertical-align: middle;\n",
       "    }\n",
       "\n",
       "    .dataframe tbody tr th {\n",
       "        vertical-align: top;\n",
       "    }\n",
       "\n",
       "    .dataframe thead th {\n",
       "        text-align: right;\n",
       "    }\n",
       "</style>\n",
       "<table border=\"1\" class=\"dataframe\">\n",
       "  <thead>\n",
       "    <tr style=\"text-align: right;\">\n",
       "      <th></th>\n",
       "      <th>2023-01-01 00:00:00</th>\n",
       "      <th>32</th>\n",
       "      <th>6</th>\n",
       "      <th>rain</th>\n",
       "    </tr>\n",
       "  </thead>\n",
       "  <tbody>\n",
       "    <tr>\n",
       "      <th>0</th>\n",
       "      <td>2023-01-04</td>\n",
       "      <td>NaN</td>\n",
       "      <td>4.0</td>\n",
       "      <td>sunny</td>\n",
       "    </tr>\n",
       "    <tr>\n",
       "      <th>1</th>\n",
       "      <td>2023-01-05</td>\n",
       "      <td>28.30</td>\n",
       "      <td>NaN</td>\n",
       "      <td>snow</td>\n",
       "    </tr>\n",
       "    <tr>\n",
       "      <th>2</th>\n",
       "      <td>2023-01-06</td>\n",
       "      <td>24.00</td>\n",
       "      <td>4.5</td>\n",
       "      <td>NaN</td>\n",
       "    </tr>\n",
       "    <tr>\n",
       "      <th>3</th>\n",
       "      <td>2023-01-07</td>\n",
       "      <td>34.23</td>\n",
       "      <td>5.2</td>\n",
       "      <td>rain</td>\n",
       "    </tr>\n",
       "    <tr>\n",
       "      <th>4</th>\n",
       "      <td>2023-01-08</td>\n",
       "      <td>33.00</td>\n",
       "      <td>NaN</td>\n",
       "      <td>sunny</td>\n",
       "    </tr>\n",
       "    <tr>\n",
       "      <th>5</th>\n",
       "      <td>2023-01-09</td>\n",
       "      <td>NaN</td>\n",
       "      <td>2.0</td>\n",
       "      <td>snow</td>\n",
       "    </tr>\n",
       "    <tr>\n",
       "      <th>6</th>\n",
       "      <td>2023-01-10</td>\n",
       "      <td>NaN</td>\n",
       "      <td>NaN</td>\n",
       "      <td>NaN</td>\n",
       "    </tr>\n",
       "    <tr>\n",
       "      <th>7</th>\n",
       "      <td>2023-01-11</td>\n",
       "      <td>15.40</td>\n",
       "      <td>NaN</td>\n",
       "      <td>rain</td>\n",
       "    </tr>\n",
       "    <tr>\n",
       "      <th>8</th>\n",
       "      <td>2023-01-12</td>\n",
       "      <td>NaN</td>\n",
       "      <td>5.9</td>\n",
       "      <td>hot</td>\n",
       "    </tr>\n",
       "  </tbody>\n",
       "</table>\n",
       "</div>"
      ],
      "text/plain": [
       "  2023-01-01 00:00:00     32    6   rain\n",
       "0          2023-01-04    NaN  4.0  sunny\n",
       "1          2023-01-05  28.30  NaN   snow\n",
       "2          2023-01-06  24.00  4.5    NaN\n",
       "3          2023-01-07  34.23  5.2   rain\n",
       "4          2023-01-08  33.00  NaN  sunny\n",
       "5          2023-01-09    NaN  2.0   snow\n",
       "6          2023-01-10    NaN  NaN    NaN\n",
       "7          2023-01-11  15.40  NaN   rain\n",
       "8          2023-01-12    NaN  5.9    hot"
      ]
     },
     "execution_count": 26,
     "metadata": {},
     "output_type": "execute_result"
    }
   ],
   "source": [
    "#it will skip the header row by using skiprows=1 or header = 1\n",
    "df = pd.read_excel(r\"C:\\Users\\kotesh\\OneDrive\\Documents\\weather.xlsx\",skiprows=1)\n",
    "df"
   ]
  },
  {
   "cell_type": "code",
   "execution_count": 27,
   "id": "c15695c6",
   "metadata": {},
   "outputs": [
    {
     "data": {
      "text/html": [
       "<div>\n",
       "<style scoped>\n",
       "    .dataframe tbody tr th:only-of-type {\n",
       "        vertical-align: middle;\n",
       "    }\n",
       "\n",
       "    .dataframe tbody tr th {\n",
       "        vertical-align: top;\n",
       "    }\n",
       "\n",
       "    .dataframe thead th {\n",
       "        text-align: right;\n",
       "    }\n",
       "</style>\n",
       "<table border=\"1\" class=\"dataframe\">\n",
       "  <thead>\n",
       "    <tr style=\"text-align: right;\">\n",
       "      <th></th>\n",
       "      <th>0</th>\n",
       "      <th>1</th>\n",
       "      <th>2</th>\n",
       "      <th>3</th>\n",
       "    </tr>\n",
       "  </thead>\n",
       "  <tbody>\n",
       "    <tr>\n",
       "      <th>1</th>\n",
       "      <td>day</td>\n",
       "      <td>tempereture</td>\n",
       "      <td>windspeed</td>\n",
       "      <td>event</td>\n",
       "    </tr>\n",
       "    <tr>\n",
       "      <th>2</th>\n",
       "      <td>2023-01-01 00:00:00</td>\n",
       "      <td>32</td>\n",
       "      <td>6</td>\n",
       "      <td>rain</td>\n",
       "    </tr>\n",
       "    <tr>\n",
       "      <th>3</th>\n",
       "      <td>2023-01-04 00:00:00</td>\n",
       "      <td>NaN</td>\n",
       "      <td>4</td>\n",
       "      <td>sunny</td>\n",
       "    </tr>\n",
       "    <tr>\n",
       "      <th>4</th>\n",
       "      <td>2023-01-05 00:00:00</td>\n",
       "      <td>28.3</td>\n",
       "      <td>NaN</td>\n",
       "      <td>snow</td>\n",
       "    </tr>\n",
       "    <tr>\n",
       "      <th>5</th>\n",
       "      <td>2023-01-06 00:00:00</td>\n",
       "      <td>24</td>\n",
       "      <td>4.5</td>\n",
       "      <td>NaN</td>\n",
       "    </tr>\n",
       "    <tr>\n",
       "      <th>6</th>\n",
       "      <td>2023-01-07 00:00:00</td>\n",
       "      <td>34.23</td>\n",
       "      <td>5.2</td>\n",
       "      <td>rain</td>\n",
       "    </tr>\n",
       "    <tr>\n",
       "      <th>7</th>\n",
       "      <td>2023-01-08 00:00:00</td>\n",
       "      <td>33</td>\n",
       "      <td>NaN</td>\n",
       "      <td>sunny</td>\n",
       "    </tr>\n",
       "    <tr>\n",
       "      <th>8</th>\n",
       "      <td>2023-01-09 00:00:00</td>\n",
       "      <td>NaN</td>\n",
       "      <td>2</td>\n",
       "      <td>snow</td>\n",
       "    </tr>\n",
       "    <tr>\n",
       "      <th>9</th>\n",
       "      <td>2023-01-10 00:00:00</td>\n",
       "      <td>NaN</td>\n",
       "      <td>NaN</td>\n",
       "      <td>NaN</td>\n",
       "    </tr>\n",
       "    <tr>\n",
       "      <th>10</th>\n",
       "      <td>2023-01-11 00:00:00</td>\n",
       "      <td>15.4</td>\n",
       "      <td>NaN</td>\n",
       "      <td>rain</td>\n",
       "    </tr>\n",
       "    <tr>\n",
       "      <th>11</th>\n",
       "      <td>2023-01-12 00:00:00</td>\n",
       "      <td>NaN</td>\n",
       "      <td>5.9</td>\n",
       "      <td>hot</td>\n",
       "    </tr>\n",
       "  </tbody>\n",
       "</table>\n",
       "</div>"
      ],
      "text/plain": [
       "                      0            1          2      3\n",
       "1                   day  tempereture  windspeed  event\n",
       "2   2023-01-01 00:00:00           32          6   rain\n",
       "3   2023-01-04 00:00:00          NaN          4  sunny\n",
       "4   2023-01-05 00:00:00         28.3        NaN   snow\n",
       "5   2023-01-06 00:00:00           24        4.5    NaN\n",
       "6   2023-01-07 00:00:00        34.23        5.2   rain\n",
       "7   2023-01-08 00:00:00           33        NaN  sunny\n",
       "8   2023-01-09 00:00:00          NaN          2   snow\n",
       "9   2023-01-10 00:00:00          NaN        NaN    NaN\n",
       "10  2023-01-11 00:00:00         15.4        NaN   rain\n",
       "11  2023-01-12 00:00:00          NaN        5.9    hot"
      ]
     },
     "execution_count": 27,
     "metadata": {},
     "output_type": "execute_result"
    }
   ],
   "source": [
    "### suppose for this file there is heading line then we can add header line by this function header=None,names=['cloumn 1','clm 2','clm 3']\n",
    "df = pd.read_excel(r\"C:\\Users\\kotesh\\OneDrive\\Documents\\weather.xlsx\",header=None)\n",
    "df.index +=1\n",
    "df"
   ]
  },
  {
   "cell_type": "code",
   "execution_count": 28,
   "id": "22c6d1c9",
   "metadata": {},
   "outputs": [
    {
     "data": {
      "text/html": [
       "<div>\n",
       "<style scoped>\n",
       "    .dataframe tbody tr th:only-of-type {\n",
       "        vertical-align: middle;\n",
       "    }\n",
       "\n",
       "    .dataframe tbody tr th {\n",
       "        vertical-align: top;\n",
       "    }\n",
       "\n",
       "    .dataframe thead th {\n",
       "        text-align: right;\n",
       "    }\n",
       "</style>\n",
       "<table border=\"1\" class=\"dataframe\">\n",
       "  <thead>\n",
       "    <tr style=\"text-align: right;\">\n",
       "      <th></th>\n",
       "      <th>A</th>\n",
       "      <th>B</th>\n",
       "      <th>C</th>\n",
       "      <th>D</th>\n",
       "      <th>E</th>\n",
       "      <th>F</th>\n",
       "      <th>G</th>\n",
       "    </tr>\n",
       "  </thead>\n",
       "  <tbody>\n",
       "    <tr>\n",
       "      <th>0</th>\n",
       "      <td>day</td>\n",
       "      <td>tempereture</td>\n",
       "      <td>windspeed</td>\n",
       "      <td>event</td>\n",
       "      <td>NaN</td>\n",
       "      <td>NaN</td>\n",
       "      <td>NaN</td>\n",
       "    </tr>\n",
       "    <tr>\n",
       "      <th>1</th>\n",
       "      <td>2023-01-01 00:00:00</td>\n",
       "      <td>32</td>\n",
       "      <td>6</td>\n",
       "      <td>rain</td>\n",
       "      <td>NaN</td>\n",
       "      <td>NaN</td>\n",
       "      <td>NaN</td>\n",
       "    </tr>\n",
       "    <tr>\n",
       "      <th>2</th>\n",
       "      <td>2023-01-04 00:00:00</td>\n",
       "      <td>NaN</td>\n",
       "      <td>4</td>\n",
       "      <td>sunny</td>\n",
       "      <td>NaN</td>\n",
       "      <td>NaN</td>\n",
       "      <td>NaN</td>\n",
       "    </tr>\n",
       "    <tr>\n",
       "      <th>3</th>\n",
       "      <td>2023-01-05 00:00:00</td>\n",
       "      <td>28.3</td>\n",
       "      <td>NaN</td>\n",
       "      <td>snow</td>\n",
       "      <td>NaN</td>\n",
       "      <td>NaN</td>\n",
       "      <td>NaN</td>\n",
       "    </tr>\n",
       "    <tr>\n",
       "      <th>4</th>\n",
       "      <td>2023-01-06 00:00:00</td>\n",
       "      <td>24</td>\n",
       "      <td>4.5</td>\n",
       "      <td>NaN</td>\n",
       "      <td>NaN</td>\n",
       "      <td>NaN</td>\n",
       "      <td>NaN</td>\n",
       "    </tr>\n",
       "    <tr>\n",
       "      <th>5</th>\n",
       "      <td>2023-01-07 00:00:00</td>\n",
       "      <td>34.23</td>\n",
       "      <td>5.2</td>\n",
       "      <td>rain</td>\n",
       "      <td>NaN</td>\n",
       "      <td>NaN</td>\n",
       "      <td>NaN</td>\n",
       "    </tr>\n",
       "    <tr>\n",
       "      <th>6</th>\n",
       "      <td>2023-01-08 00:00:00</td>\n",
       "      <td>33</td>\n",
       "      <td>NaN</td>\n",
       "      <td>sunny</td>\n",
       "      <td>NaN</td>\n",
       "      <td>NaN</td>\n",
       "      <td>NaN</td>\n",
       "    </tr>\n",
       "    <tr>\n",
       "      <th>7</th>\n",
       "      <td>2023-01-09 00:00:00</td>\n",
       "      <td>NaN</td>\n",
       "      <td>2</td>\n",
       "      <td>snow</td>\n",
       "      <td>NaN</td>\n",
       "      <td>NaN</td>\n",
       "      <td>NaN</td>\n",
       "    </tr>\n",
       "    <tr>\n",
       "      <th>8</th>\n",
       "      <td>2023-01-10 00:00:00</td>\n",
       "      <td>NaN</td>\n",
       "      <td>NaN</td>\n",
       "      <td>NaN</td>\n",
       "      <td>NaN</td>\n",
       "      <td>NaN</td>\n",
       "      <td>NaN</td>\n",
       "    </tr>\n",
       "    <tr>\n",
       "      <th>9</th>\n",
       "      <td>2023-01-11 00:00:00</td>\n",
       "      <td>15.4</td>\n",
       "      <td>NaN</td>\n",
       "      <td>rain</td>\n",
       "      <td>NaN</td>\n",
       "      <td>NaN</td>\n",
       "      <td>NaN</td>\n",
       "    </tr>\n",
       "    <tr>\n",
       "      <th>10</th>\n",
       "      <td>2023-01-12 00:00:00</td>\n",
       "      <td>NaN</td>\n",
       "      <td>5.9</td>\n",
       "      <td>hot</td>\n",
       "      <td>NaN</td>\n",
       "      <td>NaN</td>\n",
       "      <td>NaN</td>\n",
       "    </tr>\n",
       "  </tbody>\n",
       "</table>\n",
       "</div>"
      ],
      "text/plain": [
       "                      A            B          C      D   E   F   G\n",
       "0                   day  tempereture  windspeed  event NaN NaN NaN\n",
       "1   2023-01-01 00:00:00           32          6   rain NaN NaN NaN\n",
       "2   2023-01-04 00:00:00          NaN          4  sunny NaN NaN NaN\n",
       "3   2023-01-05 00:00:00         28.3        NaN   snow NaN NaN NaN\n",
       "4   2023-01-06 00:00:00           24        4.5    NaN NaN NaN NaN\n",
       "5   2023-01-07 00:00:00        34.23        5.2   rain NaN NaN NaN\n",
       "6   2023-01-08 00:00:00           33        NaN  sunny NaN NaN NaN\n",
       "7   2023-01-09 00:00:00          NaN          2   snow NaN NaN NaN\n",
       "8   2023-01-10 00:00:00          NaN        NaN    NaN NaN NaN NaN\n",
       "9   2023-01-11 00:00:00         15.4        NaN   rain NaN NaN NaN\n",
       "10  2023-01-12 00:00:00          NaN        5.9    hot NaN NaN NaN"
      ]
     },
     "execution_count": 28,
     "metadata": {},
     "output_type": "execute_result"
    }
   ],
   "source": [
    "df2 = pd.read_excel(r\"C:\\Users\\kotesh\\OneDrive\\Documents\\weather.xlsx\",header=None,names=['A','B','C','D','E','F','G'])\n",
    "df2"
   ]
  },
  {
   "cell_type": "code",
   "execution_count": 29,
   "id": "6cae9696",
   "metadata": {},
   "outputs": [
    {
     "data": {
      "text/html": [
       "<div>\n",
       "<style scoped>\n",
       "    .dataframe tbody tr th:only-of-type {\n",
       "        vertical-align: middle;\n",
       "    }\n",
       "\n",
       "    .dataframe tbody tr th {\n",
       "        vertical-align: top;\n",
       "    }\n",
       "\n",
       "    .dataframe thead th {\n",
       "        text-align: right;\n",
       "    }\n",
       "</style>\n",
       "<table border=\"1\" class=\"dataframe\">\n",
       "  <thead>\n",
       "    <tr style=\"text-align: right;\">\n",
       "      <th></th>\n",
       "      <th>day</th>\n",
       "      <th>tempereture</th>\n",
       "      <th>windspeed</th>\n",
       "      <th>event</th>\n",
       "    </tr>\n",
       "  </thead>\n",
       "  <tbody>\n",
       "    <tr>\n",
       "      <th>1</th>\n",
       "      <td>2023-01-01</td>\n",
       "      <td>32.00</td>\n",
       "      <td>6.0</td>\n",
       "      <td>rain</td>\n",
       "    </tr>\n",
       "    <tr>\n",
       "      <th>2</th>\n",
       "      <td>2023-01-04</td>\n",
       "      <td>NaN</td>\n",
       "      <td>4.0</td>\n",
       "      <td>sunny</td>\n",
       "    </tr>\n",
       "    <tr>\n",
       "      <th>3</th>\n",
       "      <td>2023-01-05</td>\n",
       "      <td>28.30</td>\n",
       "      <td>NaN</td>\n",
       "      <td>snow</td>\n",
       "    </tr>\n",
       "    <tr>\n",
       "      <th>4</th>\n",
       "      <td>2023-01-06</td>\n",
       "      <td>24.00</td>\n",
       "      <td>4.5</td>\n",
       "      <td>NaN</td>\n",
       "    </tr>\n",
       "    <tr>\n",
       "      <th>5</th>\n",
       "      <td>2023-01-07</td>\n",
       "      <td>34.23</td>\n",
       "      <td>5.2</td>\n",
       "      <td>rain</td>\n",
       "    </tr>\n",
       "    <tr>\n",
       "      <th>6</th>\n",
       "      <td>2023-01-08</td>\n",
       "      <td>33.00</td>\n",
       "      <td>NaN</td>\n",
       "      <td>sunny</td>\n",
       "    </tr>\n",
       "    <tr>\n",
       "      <th>7</th>\n",
       "      <td>2023-01-09</td>\n",
       "      <td>NaN</td>\n",
       "      <td>2.0</td>\n",
       "      <td>snow</td>\n",
       "    </tr>\n",
       "    <tr>\n",
       "      <th>8</th>\n",
       "      <td>2023-01-10</td>\n",
       "      <td>NaN</td>\n",
       "      <td>NaN</td>\n",
       "      <td>NaN</td>\n",
       "    </tr>\n",
       "    <tr>\n",
       "      <th>9</th>\n",
       "      <td>2023-01-11</td>\n",
       "      <td>15.40</td>\n",
       "      <td>NaN</td>\n",
       "      <td>rain</td>\n",
       "    </tr>\n",
       "  </tbody>\n",
       "</table>\n",
       "</div>"
      ],
      "text/plain": [
       "         day  tempereture  windspeed  event\n",
       "1 2023-01-01        32.00        6.0   rain\n",
       "2 2023-01-04          NaN        4.0  sunny\n",
       "3 2023-01-05        28.30        NaN   snow\n",
       "4 2023-01-06        24.00        4.5    NaN\n",
       "5 2023-01-07        34.23        5.2   rain\n",
       "6 2023-01-08        33.00        NaN  sunny\n",
       "7 2023-01-09          NaN        2.0   snow\n",
       "8 2023-01-10          NaN        NaN    NaN\n",
       "9 2023-01-11        15.40        NaN   rain"
      ]
     },
     "execution_count": 29,
     "metadata": {},
     "output_type": "execute_result"
    }
   ],
   "source": [
    "# skipfooter=1 it will skip the bottum row\n",
    "df = pd.read_excel(r\"C:\\Users\\kotesh\\OneDrive\\Documents\\weather.xlsx\",skipfooter=1)\n",
    "df.index +=1\n",
    "df"
   ]
  },
  {
   "cell_type": "code",
   "execution_count": 30,
   "id": "09cc28be",
   "metadata": {},
   "outputs": [
    {
     "data": {
      "text/html": [
       "<div>\n",
       "<style scoped>\n",
       "    .dataframe tbody tr th:only-of-type {\n",
       "        vertical-align: middle;\n",
       "    }\n",
       "\n",
       "    .dataframe tbody tr th {\n",
       "        vertical-align: top;\n",
       "    }\n",
       "\n",
       "    .dataframe thead th {\n",
       "        text-align: right;\n",
       "    }\n",
       "</style>\n",
       "<table border=\"1\" class=\"dataframe\">\n",
       "  <thead>\n",
       "    <tr style=\"text-align: right;\">\n",
       "      <th></th>\n",
       "      <th>day</th>\n",
       "      <th>tempereture</th>\n",
       "      <th>windspeed</th>\n",
       "      <th>event</th>\n",
       "    </tr>\n",
       "  </thead>\n",
       "  <tbody>\n",
       "    <tr>\n",
       "      <th>1</th>\n",
       "      <td>2023-01-01</td>\n",
       "      <td>32.00</td>\n",
       "      <td>6.0</td>\n",
       "      <td>rain</td>\n",
       "    </tr>\n",
       "    <tr>\n",
       "      <th>2</th>\n",
       "      <td>2023-01-04</td>\n",
       "      <td>NaN</td>\n",
       "      <td>4.0</td>\n",
       "      <td>sunny</td>\n",
       "    </tr>\n",
       "    <tr>\n",
       "      <th>3</th>\n",
       "      <td>2023-01-05</td>\n",
       "      <td>28.30</td>\n",
       "      <td>NaN</td>\n",
       "      <td>snow</td>\n",
       "    </tr>\n",
       "    <tr>\n",
       "      <th>4</th>\n",
       "      <td>2023-01-06</td>\n",
       "      <td>24.00</td>\n",
       "      <td>4.5</td>\n",
       "      <td>NaN</td>\n",
       "    </tr>\n",
       "    <tr>\n",
       "      <th>5</th>\n",
       "      <td>2023-01-07</td>\n",
       "      <td>34.23</td>\n",
       "      <td>5.2</td>\n",
       "      <td>rain</td>\n",
       "    </tr>\n",
       "    <tr>\n",
       "      <th>6</th>\n",
       "      <td>2023-01-08</td>\n",
       "      <td>33.00</td>\n",
       "      <td>NaN</td>\n",
       "      <td>sunny</td>\n",
       "    </tr>\n",
       "    <tr>\n",
       "      <th>7</th>\n",
       "      <td>2023-01-09</td>\n",
       "      <td>NaN</td>\n",
       "      <td>2.0</td>\n",
       "      <td>snow</td>\n",
       "    </tr>\n",
       "    <tr>\n",
       "      <th>8</th>\n",
       "      <td>2023-01-10</td>\n",
       "      <td>NaN</td>\n",
       "      <td>NaN</td>\n",
       "      <td>NaN</td>\n",
       "    </tr>\n",
       "    <tr>\n",
       "      <th>9</th>\n",
       "      <td>2023-01-11</td>\n",
       "      <td>15.40</td>\n",
       "      <td>NaN</td>\n",
       "      <td>rain</td>\n",
       "    </tr>\n",
       "    <tr>\n",
       "      <th>10</th>\n",
       "      <td>2023-01-12</td>\n",
       "      <td>NaN</td>\n",
       "      <td>5.9</td>\n",
       "      <td>hot</td>\n",
       "    </tr>\n",
       "  </tbody>\n",
       "</table>\n",
       "</div>"
      ],
      "text/plain": [
       "          day  tempereture  windspeed  event\n",
       "1  2023-01-01        32.00        6.0   rain\n",
       "2  2023-01-04          NaN        4.0  sunny\n",
       "3  2023-01-05        28.30        NaN   snow\n",
       "4  2023-01-06        24.00        4.5    NaN\n",
       "5  2023-01-07        34.23        5.2   rain\n",
       "6  2023-01-08        33.00        NaN  sunny\n",
       "7  2023-01-09          NaN        2.0   snow\n",
       "8  2023-01-10          NaN        NaN    NaN\n",
       "9  2023-01-11        15.40        NaN   rain\n",
       "10 2023-01-12          NaN        5.9    hot"
      ]
     },
     "execution_count": 30,
     "metadata": {},
     "output_type": "execute_result"
    }
   ],
   "source": [
    "df_1 = pd.read_excel(r\"C:\\Users\\kotesh\\OneDrive\\Documents\\weather.xlsx\",na_values=['0.0'])\n",
    "df_1.index +=1\n",
    "df_1\n",
    "# We use the na_values parameter to specify that the string ‘0.0’ should be considered as a NaN value."
   ]
  },
  {
   "cell_type": "code",
   "execution_count": 31,
   "id": "f4a26c71",
   "metadata": {},
   "outputs": [
    {
     "data": {
      "text/html": [
       "<div>\n",
       "<style scoped>\n",
       "    .dataframe tbody tr th:only-of-type {\n",
       "        vertical-align: middle;\n",
       "    }\n",
       "\n",
       "    .dataframe tbody tr th {\n",
       "        vertical-align: top;\n",
       "    }\n",
       "\n",
       "    .dataframe thead th {\n",
       "        text-align: right;\n",
       "    }\n",
       "</style>\n",
       "<table border=\"1\" class=\"dataframe\">\n",
       "  <thead>\n",
       "    <tr style=\"text-align: right;\">\n",
       "      <th></th>\n",
       "      <th>day</th>\n",
       "      <th>tempereture</th>\n",
       "      <th>windspeed</th>\n",
       "    </tr>\n",
       "  </thead>\n",
       "  <tbody>\n",
       "    <tr>\n",
       "      <th>1</th>\n",
       "      <td>2023-01-01</td>\n",
       "      <td>32.00</td>\n",
       "      <td>6.0</td>\n",
       "    </tr>\n",
       "    <tr>\n",
       "      <th>2</th>\n",
       "      <td>2023-01-04</td>\n",
       "      <td>NaN</td>\n",
       "      <td>4.0</td>\n",
       "    </tr>\n",
       "    <tr>\n",
       "      <th>3</th>\n",
       "      <td>2023-01-05</td>\n",
       "      <td>28.30</td>\n",
       "      <td>NaN</td>\n",
       "    </tr>\n",
       "    <tr>\n",
       "      <th>4</th>\n",
       "      <td>2023-01-06</td>\n",
       "      <td>24.00</td>\n",
       "      <td>4.5</td>\n",
       "    </tr>\n",
       "    <tr>\n",
       "      <th>5</th>\n",
       "      <td>2023-01-07</td>\n",
       "      <td>34.23</td>\n",
       "      <td>5.2</td>\n",
       "    </tr>\n",
       "    <tr>\n",
       "      <th>6</th>\n",
       "      <td>2023-01-08</td>\n",
       "      <td>33.00</td>\n",
       "      <td>NaN</td>\n",
       "    </tr>\n",
       "    <tr>\n",
       "      <th>7</th>\n",
       "      <td>2023-01-09</td>\n",
       "      <td>NaN</td>\n",
       "      <td>2.0</td>\n",
       "    </tr>\n",
       "    <tr>\n",
       "      <th>8</th>\n",
       "      <td>2023-01-10</td>\n",
       "      <td>NaN</td>\n",
       "      <td>NaN</td>\n",
       "    </tr>\n",
       "    <tr>\n",
       "      <th>9</th>\n",
       "      <td>2023-01-11</td>\n",
       "      <td>15.40</td>\n",
       "      <td>NaN</td>\n",
       "    </tr>\n",
       "    <tr>\n",
       "      <th>10</th>\n",
       "      <td>2023-01-12</td>\n",
       "      <td>NaN</td>\n",
       "      <td>5.9</td>\n",
       "    </tr>\n",
       "  </tbody>\n",
       "</table>\n",
       "</div>"
      ],
      "text/plain": [
       "          day  tempereture  windspeed\n",
       "1  2023-01-01        32.00        6.0\n",
       "2  2023-01-04          NaN        4.0\n",
       "3  2023-01-05        28.30        NaN\n",
       "4  2023-01-06        24.00        4.5\n",
       "5  2023-01-07        34.23        5.2\n",
       "6  2023-01-08        33.00        NaN\n",
       "7  2023-01-09          NaN        2.0\n",
       "8  2023-01-10          NaN        NaN\n",
       "9  2023-01-11        15.40        NaN\n",
       "10 2023-01-12          NaN        5.9"
      ]
     },
     "execution_count": 31,
     "metadata": {},
     "output_type": "execute_result"
    }
   ],
   "source": [
    "df_2 = df_1[[\"day\",\"tempereture\",\"windspeed\"]]\n",
    "df_2"
   ]
  },
  {
   "cell_type": "code",
   "execution_count": 32,
   "id": "10d7a57c",
   "metadata": {
    "scrolled": true
   },
   "outputs": [
    {
     "data": {
      "text/plain": [
       "1     6.00\n",
       "2     4.00\n",
       "3     4.25\n",
       "4     4.50\n",
       "5     5.20\n",
       "6     3.60\n",
       "7     2.00\n",
       "8     3.30\n",
       "9     4.60\n",
       "10    5.90\n",
       "Name: windspeed, dtype: float64"
      ]
     },
     "execution_count": 32,
     "metadata": {},
     "output_type": "execute_result"
    }
   ],
   "source": [
    "df_2['windspeed'].interpolate()"
   ]
  },
  {
   "cell_type": "code",
   "execution_count": 33,
   "id": "e4741393",
   "metadata": {},
   "outputs": [
    {
     "data": {
      "text/html": [
       "<div>\n",
       "<style scoped>\n",
       "    .dataframe tbody tr th:only-of-type {\n",
       "        vertical-align: middle;\n",
       "    }\n",
       "\n",
       "    .dataframe tbody tr th {\n",
       "        vertical-align: top;\n",
       "    }\n",
       "\n",
       "    .dataframe thead th {\n",
       "        text-align: right;\n",
       "    }\n",
       "</style>\n",
       "<table border=\"1\" class=\"dataframe\">\n",
       "  <thead>\n",
       "    <tr style=\"text-align: right;\">\n",
       "      <th></th>\n",
       "      <th>day</th>\n",
       "      <th>tempereture</th>\n",
       "      <th>windspeed</th>\n",
       "      <th>event</th>\n",
       "    </tr>\n",
       "  </thead>\n",
       "  <tbody>\n",
       "    <tr>\n",
       "      <th>1</th>\n",
       "      <td>2023-01-01</td>\n",
       "      <td>32.00</td>\n",
       "      <td>6.0</td>\n",
       "      <td>rain</td>\n",
       "    </tr>\n",
       "    <tr>\n",
       "      <th>2</th>\n",
       "      <td>2023-01-04</td>\n",
       "      <td>NaN</td>\n",
       "      <td>4.0</td>\n",
       "      <td>sunny</td>\n",
       "    </tr>\n",
       "    <tr>\n",
       "      <th>3</th>\n",
       "      <td>2023-01-05</td>\n",
       "      <td>28.30</td>\n",
       "      <td>NaN</td>\n",
       "      <td>snow</td>\n",
       "    </tr>\n",
       "    <tr>\n",
       "      <th>4</th>\n",
       "      <td>2023-01-06</td>\n",
       "      <td>24.00</td>\n",
       "      <td>4.5</td>\n",
       "      <td>NaN</td>\n",
       "    </tr>\n",
       "    <tr>\n",
       "      <th>5</th>\n",
       "      <td>2023-01-07</td>\n",
       "      <td>34.23</td>\n",
       "      <td>5.2</td>\n",
       "      <td>rain</td>\n",
       "    </tr>\n",
       "    <tr>\n",
       "      <th>6</th>\n",
       "      <td>2023-01-08</td>\n",
       "      <td>33.00</td>\n",
       "      <td>NaN</td>\n",
       "      <td>sunny</td>\n",
       "    </tr>\n",
       "    <tr>\n",
       "      <th>7</th>\n",
       "      <td>2023-01-09</td>\n",
       "      <td>NaN</td>\n",
       "      <td>2.0</td>\n",
       "      <td>snow</td>\n",
       "    </tr>\n",
       "    <tr>\n",
       "      <th>8</th>\n",
       "      <td>2023-01-10</td>\n",
       "      <td>NaN</td>\n",
       "      <td>NaN</td>\n",
       "      <td>NaN</td>\n",
       "    </tr>\n",
       "    <tr>\n",
       "      <th>9</th>\n",
       "      <td>2023-01-11</td>\n",
       "      <td>15.40</td>\n",
       "      <td>NaN</td>\n",
       "      <td>rain</td>\n",
       "    </tr>\n",
       "    <tr>\n",
       "      <th>10</th>\n",
       "      <td>2023-01-12</td>\n",
       "      <td>NaN</td>\n",
       "      <td>5.9</td>\n",
       "      <td>hot</td>\n",
       "    </tr>\n",
       "  </tbody>\n",
       "</table>\n",
       "</div>"
      ],
      "text/plain": [
       "          day  tempereture  windspeed  event\n",
       "1  2023-01-01        32.00        6.0   rain\n",
       "2  2023-01-04          NaN        4.0  sunny\n",
       "3  2023-01-05        28.30        NaN   snow\n",
       "4  2023-01-06        24.00        4.5    NaN\n",
       "5  2023-01-07        34.23        5.2   rain\n",
       "6  2023-01-08        33.00        NaN  sunny\n",
       "7  2023-01-09          NaN        2.0   snow\n",
       "8  2023-01-10          NaN        NaN    NaN\n",
       "9  2023-01-11        15.40        NaN   rain\n",
       "10 2023-01-12          NaN        5.9    hot"
      ]
     },
     "execution_count": 33,
     "metadata": {},
     "output_type": "execute_result"
    }
   ],
   "source": [
    "df = pd.read_excel(r\"C:\\Users\\kotesh\\OneDrive\\Documents\\weather.xlsx\",na_values={\n",
    "    'tempereture' : ['0.0'],\n",
    "    'windspeed' : ['0.0']\n",
    "})\n",
    "df.index +=1\n",
    "df"
   ]
  },
  {
   "cell_type": "markdown",
   "id": "4062ff70",
   "metadata": {},
   "source": [
    " After changes in old file and creat new name to the file and new file"
   ]
  },
  {
   "cell_type": "code",
   "execution_count": 34,
   "id": "48acc110",
   "metadata": {},
   "outputs": [],
   "source": [
    "df.to_csv('koti.csv',index=False)"
   ]
  },
  {
   "cell_type": "code",
   "execution_count": 35,
   "id": "7accc8b9",
   "metadata": {},
   "outputs": [
    {
     "data": {
      "text/plain": [
       "Index(['day', 'tempereture', 'windspeed', 'event'], dtype='object')"
      ]
     },
     "execution_count": 35,
     "metadata": {},
     "output_type": "execute_result"
    }
   ],
   "source": [
    "df.columns"
   ]
  },
  {
   "cell_type": "code",
   "execution_count": 33,
   "id": "742b076f",
   "metadata": {},
   "outputs": [
    {
     "ename": "KeyError",
     "evalue": "\"None of [Index(['Height', 'Z Score', 'Z score > 3?', 'Height.1',\\n       'Height - median height', 'Mod Z Score', 'mod Z score > 3.5 ?'],\\n      dtype='object')] are in the [columns]\"",
     "output_type": "error",
     "traceback": [
      "\u001b[1;31m---------------------------------------------------------------------------\u001b[0m",
      "\u001b[1;31mKeyError\u001b[0m                                  Traceback (most recent call last)",
      "Cell \u001b[1;32mIn[33], line 1\u001b[0m\n\u001b[1;32m----> 1\u001b[0m \u001b[43mdf\u001b[49m\u001b[38;5;241;43m.\u001b[39;49m\u001b[43mto_csv\u001b[49m\u001b[43m(\u001b[49m\u001b[38;5;124;43m'\u001b[39;49m\u001b[38;5;124;43mkoti_1.csv\u001b[39;49m\u001b[38;5;124;43m'\u001b[39;49m\u001b[43m,\u001b[49m\u001b[43mindex\u001b[49m\u001b[38;5;241;43m=\u001b[39;49m\u001b[38;5;28;43;01mFalse\u001b[39;49;00m\u001b[43m,\u001b[49m\u001b[43mcolumns\u001b[49m\u001b[38;5;241;43m=\u001b[39;49m\u001b[43m[\u001b[49m\u001b[38;5;124;43m'\u001b[39;49m\u001b[38;5;124;43mHeight\u001b[39;49m\u001b[38;5;124;43m'\u001b[39;49m\u001b[43m,\u001b[49m\u001b[43m \u001b[49m\u001b[38;5;124;43m'\u001b[39;49m\u001b[38;5;124;43mZ Score\u001b[39;49m\u001b[38;5;124;43m'\u001b[39;49m\u001b[43m,\u001b[49m\u001b[43m \u001b[49m\u001b[38;5;124;43m'\u001b[39;49m\u001b[38;5;124;43mZ score > 3?\u001b[39;49m\u001b[38;5;124;43m'\u001b[39;49m\u001b[43m,\u001b[49m\u001b[43m \u001b[49m\u001b[38;5;124;43m'\u001b[39;49m\u001b[38;5;124;43mHeight.1\u001b[39;49m\u001b[38;5;124;43m'\u001b[39;49m\u001b[43m,\u001b[49m\n\u001b[0;32m      2\u001b[0m \u001b[43m       \u001b[49m\u001b[38;5;124;43m'\u001b[39;49m\u001b[38;5;124;43mHeight - median height\u001b[39;49m\u001b[38;5;124;43m'\u001b[39;49m\u001b[43m,\u001b[49m\u001b[43m \u001b[49m\u001b[38;5;124;43m'\u001b[39;49m\u001b[38;5;124;43mMod Z Score\u001b[39;49m\u001b[38;5;124;43m'\u001b[39;49m\u001b[43m,\u001b[49m\u001b[43m \u001b[49m\u001b[38;5;124;43m'\u001b[39;49m\u001b[38;5;124;43mmod Z score > 3.5 ?\u001b[39;49m\u001b[38;5;124;43m'\u001b[39;49m\u001b[43m]\u001b[49m\u001b[43m)\u001b[49m\n",
      "File \u001b[1;32m~\\anaconda3\\lib\\site-packages\\pandas\\util\\_decorators.py:211\u001b[0m, in \u001b[0;36mdeprecate_kwarg.<locals>._deprecate_kwarg.<locals>.wrapper\u001b[1;34m(*args, **kwargs)\u001b[0m\n\u001b[0;32m    209\u001b[0m     \u001b[38;5;28;01melse\u001b[39;00m:\n\u001b[0;32m    210\u001b[0m         kwargs[new_arg_name] \u001b[38;5;241m=\u001b[39m new_arg_value\n\u001b[1;32m--> 211\u001b[0m \u001b[38;5;28;01mreturn\u001b[39;00m func(\u001b[38;5;241m*\u001b[39margs, \u001b[38;5;241m*\u001b[39m\u001b[38;5;241m*\u001b[39mkwargs)\n",
      "File \u001b[1;32m~\\anaconda3\\lib\\site-packages\\pandas\\core\\generic.py:3720\u001b[0m, in \u001b[0;36mNDFrame.to_csv\u001b[1;34m(self, path_or_buf, sep, na_rep, float_format, columns, header, index, index_label, mode, encoding, compression, quoting, quotechar, lineterminator, chunksize, date_format, doublequote, escapechar, decimal, errors, storage_options)\u001b[0m\n\u001b[0;32m   3709\u001b[0m df \u001b[38;5;241m=\u001b[39m \u001b[38;5;28mself\u001b[39m \u001b[38;5;28;01mif\u001b[39;00m \u001b[38;5;28misinstance\u001b[39m(\u001b[38;5;28mself\u001b[39m, ABCDataFrame) \u001b[38;5;28;01melse\u001b[39;00m \u001b[38;5;28mself\u001b[39m\u001b[38;5;241m.\u001b[39mto_frame()\n\u001b[0;32m   3711\u001b[0m formatter \u001b[38;5;241m=\u001b[39m DataFrameFormatter(\n\u001b[0;32m   3712\u001b[0m     frame\u001b[38;5;241m=\u001b[39mdf,\n\u001b[0;32m   3713\u001b[0m     header\u001b[38;5;241m=\u001b[39mheader,\n\u001b[1;32m   (...)\u001b[0m\n\u001b[0;32m   3717\u001b[0m     decimal\u001b[38;5;241m=\u001b[39mdecimal,\n\u001b[0;32m   3718\u001b[0m )\n\u001b[1;32m-> 3720\u001b[0m \u001b[38;5;28;01mreturn\u001b[39;00m \u001b[43mDataFrameRenderer\u001b[49m\u001b[43m(\u001b[49m\u001b[43mformatter\u001b[49m\u001b[43m)\u001b[49m\u001b[38;5;241;43m.\u001b[39;49m\u001b[43mto_csv\u001b[49m\u001b[43m(\u001b[49m\n\u001b[0;32m   3721\u001b[0m \u001b[43m    \u001b[49m\u001b[43mpath_or_buf\u001b[49m\u001b[43m,\u001b[49m\n\u001b[0;32m   3722\u001b[0m \u001b[43m    \u001b[49m\u001b[43mlineterminator\u001b[49m\u001b[38;5;241;43m=\u001b[39;49m\u001b[43mlineterminator\u001b[49m\u001b[43m,\u001b[49m\n\u001b[0;32m   3723\u001b[0m \u001b[43m    \u001b[49m\u001b[43msep\u001b[49m\u001b[38;5;241;43m=\u001b[39;49m\u001b[43msep\u001b[49m\u001b[43m,\u001b[49m\n\u001b[0;32m   3724\u001b[0m \u001b[43m    \u001b[49m\u001b[43mencoding\u001b[49m\u001b[38;5;241;43m=\u001b[39;49m\u001b[43mencoding\u001b[49m\u001b[43m,\u001b[49m\n\u001b[0;32m   3725\u001b[0m \u001b[43m    \u001b[49m\u001b[43merrors\u001b[49m\u001b[38;5;241;43m=\u001b[39;49m\u001b[43merrors\u001b[49m\u001b[43m,\u001b[49m\n\u001b[0;32m   3726\u001b[0m \u001b[43m    \u001b[49m\u001b[43mcompression\u001b[49m\u001b[38;5;241;43m=\u001b[39;49m\u001b[43mcompression\u001b[49m\u001b[43m,\u001b[49m\n\u001b[0;32m   3727\u001b[0m \u001b[43m    \u001b[49m\u001b[43mquoting\u001b[49m\u001b[38;5;241;43m=\u001b[39;49m\u001b[43mquoting\u001b[49m\u001b[43m,\u001b[49m\n\u001b[0;32m   3728\u001b[0m \u001b[43m    \u001b[49m\u001b[43mcolumns\u001b[49m\u001b[38;5;241;43m=\u001b[39;49m\u001b[43mcolumns\u001b[49m\u001b[43m,\u001b[49m\n\u001b[0;32m   3729\u001b[0m \u001b[43m    \u001b[49m\u001b[43mindex_label\u001b[49m\u001b[38;5;241;43m=\u001b[39;49m\u001b[43mindex_label\u001b[49m\u001b[43m,\u001b[49m\n\u001b[0;32m   3730\u001b[0m \u001b[43m    \u001b[49m\u001b[43mmode\u001b[49m\u001b[38;5;241;43m=\u001b[39;49m\u001b[43mmode\u001b[49m\u001b[43m,\u001b[49m\n\u001b[0;32m   3731\u001b[0m \u001b[43m    \u001b[49m\u001b[43mchunksize\u001b[49m\u001b[38;5;241;43m=\u001b[39;49m\u001b[43mchunksize\u001b[49m\u001b[43m,\u001b[49m\n\u001b[0;32m   3732\u001b[0m \u001b[43m    \u001b[49m\u001b[43mquotechar\u001b[49m\u001b[38;5;241;43m=\u001b[39;49m\u001b[43mquotechar\u001b[49m\u001b[43m,\u001b[49m\n\u001b[0;32m   3733\u001b[0m \u001b[43m    \u001b[49m\u001b[43mdate_format\u001b[49m\u001b[38;5;241;43m=\u001b[39;49m\u001b[43mdate_format\u001b[49m\u001b[43m,\u001b[49m\n\u001b[0;32m   3734\u001b[0m \u001b[43m    \u001b[49m\u001b[43mdoublequote\u001b[49m\u001b[38;5;241;43m=\u001b[39;49m\u001b[43mdoublequote\u001b[49m\u001b[43m,\u001b[49m\n\u001b[0;32m   3735\u001b[0m \u001b[43m    \u001b[49m\u001b[43mescapechar\u001b[49m\u001b[38;5;241;43m=\u001b[39;49m\u001b[43mescapechar\u001b[49m\u001b[43m,\u001b[49m\n\u001b[0;32m   3736\u001b[0m \u001b[43m    \u001b[49m\u001b[43mstorage_options\u001b[49m\u001b[38;5;241;43m=\u001b[39;49m\u001b[43mstorage_options\u001b[49m\u001b[43m,\u001b[49m\n\u001b[0;32m   3737\u001b[0m \u001b[43m\u001b[49m\u001b[43m)\u001b[49m\n",
      "File \u001b[1;32m~\\anaconda3\\lib\\site-packages\\pandas\\util\\_decorators.py:211\u001b[0m, in \u001b[0;36mdeprecate_kwarg.<locals>._deprecate_kwarg.<locals>.wrapper\u001b[1;34m(*args, **kwargs)\u001b[0m\n\u001b[0;32m    209\u001b[0m     \u001b[38;5;28;01melse\u001b[39;00m:\n\u001b[0;32m    210\u001b[0m         kwargs[new_arg_name] \u001b[38;5;241m=\u001b[39m new_arg_value\n\u001b[1;32m--> 211\u001b[0m \u001b[38;5;28;01mreturn\u001b[39;00m func(\u001b[38;5;241m*\u001b[39margs, \u001b[38;5;241m*\u001b[39m\u001b[38;5;241m*\u001b[39mkwargs)\n",
      "File \u001b[1;32m~\\anaconda3\\lib\\site-packages\\pandas\\io\\formats\\format.py:1170\u001b[0m, in \u001b[0;36mDataFrameRenderer.to_csv\u001b[1;34m(self, path_or_buf, encoding, sep, columns, index_label, mode, compression, quoting, quotechar, lineterminator, chunksize, date_format, doublequote, escapechar, errors, storage_options)\u001b[0m\n\u001b[0;32m   1167\u001b[0m \u001b[38;5;28;01melse\u001b[39;00m:\n\u001b[0;32m   1168\u001b[0m     created_buffer \u001b[38;5;241m=\u001b[39m \u001b[38;5;28;01mFalse\u001b[39;00m\n\u001b[1;32m-> 1170\u001b[0m csv_formatter \u001b[38;5;241m=\u001b[39m \u001b[43mCSVFormatter\u001b[49m\u001b[43m(\u001b[49m\n\u001b[0;32m   1171\u001b[0m \u001b[43m    \u001b[49m\u001b[43mpath_or_buf\u001b[49m\u001b[38;5;241;43m=\u001b[39;49m\u001b[43mpath_or_buf\u001b[49m\u001b[43m,\u001b[49m\n\u001b[0;32m   1172\u001b[0m \u001b[43m    \u001b[49m\u001b[43mlineterminator\u001b[49m\u001b[38;5;241;43m=\u001b[39;49m\u001b[43mlineterminator\u001b[49m\u001b[43m,\u001b[49m\n\u001b[0;32m   1173\u001b[0m \u001b[43m    \u001b[49m\u001b[43msep\u001b[49m\u001b[38;5;241;43m=\u001b[39;49m\u001b[43msep\u001b[49m\u001b[43m,\u001b[49m\n\u001b[0;32m   1174\u001b[0m \u001b[43m    \u001b[49m\u001b[43mencoding\u001b[49m\u001b[38;5;241;43m=\u001b[39;49m\u001b[43mencoding\u001b[49m\u001b[43m,\u001b[49m\n\u001b[0;32m   1175\u001b[0m \u001b[43m    \u001b[49m\u001b[43merrors\u001b[49m\u001b[38;5;241;43m=\u001b[39;49m\u001b[43merrors\u001b[49m\u001b[43m,\u001b[49m\n\u001b[0;32m   1176\u001b[0m \u001b[43m    \u001b[49m\u001b[43mcompression\u001b[49m\u001b[38;5;241;43m=\u001b[39;49m\u001b[43mcompression\u001b[49m\u001b[43m,\u001b[49m\n\u001b[0;32m   1177\u001b[0m \u001b[43m    \u001b[49m\u001b[43mquoting\u001b[49m\u001b[38;5;241;43m=\u001b[39;49m\u001b[43mquoting\u001b[49m\u001b[43m,\u001b[49m\n\u001b[0;32m   1178\u001b[0m \u001b[43m    \u001b[49m\u001b[43mcols\u001b[49m\u001b[38;5;241;43m=\u001b[39;49m\u001b[43mcolumns\u001b[49m\u001b[43m,\u001b[49m\n\u001b[0;32m   1179\u001b[0m \u001b[43m    \u001b[49m\u001b[43mindex_label\u001b[49m\u001b[38;5;241;43m=\u001b[39;49m\u001b[43mindex_label\u001b[49m\u001b[43m,\u001b[49m\n\u001b[0;32m   1180\u001b[0m \u001b[43m    \u001b[49m\u001b[43mmode\u001b[49m\u001b[38;5;241;43m=\u001b[39;49m\u001b[43mmode\u001b[49m\u001b[43m,\u001b[49m\n\u001b[0;32m   1181\u001b[0m \u001b[43m    \u001b[49m\u001b[43mchunksize\u001b[49m\u001b[38;5;241;43m=\u001b[39;49m\u001b[43mchunksize\u001b[49m\u001b[43m,\u001b[49m\n\u001b[0;32m   1182\u001b[0m \u001b[43m    \u001b[49m\u001b[43mquotechar\u001b[49m\u001b[38;5;241;43m=\u001b[39;49m\u001b[43mquotechar\u001b[49m\u001b[43m,\u001b[49m\n\u001b[0;32m   1183\u001b[0m \u001b[43m    \u001b[49m\u001b[43mdate_format\u001b[49m\u001b[38;5;241;43m=\u001b[39;49m\u001b[43mdate_format\u001b[49m\u001b[43m,\u001b[49m\n\u001b[0;32m   1184\u001b[0m \u001b[43m    \u001b[49m\u001b[43mdoublequote\u001b[49m\u001b[38;5;241;43m=\u001b[39;49m\u001b[43mdoublequote\u001b[49m\u001b[43m,\u001b[49m\n\u001b[0;32m   1185\u001b[0m \u001b[43m    \u001b[49m\u001b[43mescapechar\u001b[49m\u001b[38;5;241;43m=\u001b[39;49m\u001b[43mescapechar\u001b[49m\u001b[43m,\u001b[49m\n\u001b[0;32m   1186\u001b[0m \u001b[43m    \u001b[49m\u001b[43mstorage_options\u001b[49m\u001b[38;5;241;43m=\u001b[39;49m\u001b[43mstorage_options\u001b[49m\u001b[43m,\u001b[49m\n\u001b[0;32m   1187\u001b[0m \u001b[43m    \u001b[49m\u001b[43mformatter\u001b[49m\u001b[38;5;241;43m=\u001b[39;49m\u001b[38;5;28;43mself\u001b[39;49m\u001b[38;5;241;43m.\u001b[39;49m\u001b[43mfmt\u001b[49m\u001b[43m,\u001b[49m\n\u001b[0;32m   1188\u001b[0m \u001b[43m\u001b[49m\u001b[43m)\u001b[49m\n\u001b[0;32m   1189\u001b[0m csv_formatter\u001b[38;5;241m.\u001b[39msave()\n\u001b[0;32m   1191\u001b[0m \u001b[38;5;28;01mif\u001b[39;00m created_buffer:\n",
      "File \u001b[1;32m~\\anaconda3\\lib\\site-packages\\pandas\\io\\formats\\csvs.py:89\u001b[0m, in \u001b[0;36mCSVFormatter.__init__\u001b[1;34m(self, formatter, path_or_buf, sep, cols, index_label, mode, encoding, errors, compression, quoting, lineterminator, chunksize, quotechar, date_format, doublequote, escapechar, storage_options)\u001b[0m\n\u001b[0;32m     87\u001b[0m \u001b[38;5;28mself\u001b[39m\u001b[38;5;241m.\u001b[39mlineterminator \u001b[38;5;241m=\u001b[39m lineterminator \u001b[38;5;129;01mor\u001b[39;00m os\u001b[38;5;241m.\u001b[39mlinesep\n\u001b[0;32m     88\u001b[0m \u001b[38;5;28mself\u001b[39m\u001b[38;5;241m.\u001b[39mdate_format \u001b[38;5;241m=\u001b[39m date_format\n\u001b[1;32m---> 89\u001b[0m \u001b[38;5;28mself\u001b[39m\u001b[38;5;241m.\u001b[39mcols \u001b[38;5;241m=\u001b[39m \u001b[38;5;28;43mself\u001b[39;49m\u001b[38;5;241;43m.\u001b[39;49m\u001b[43m_initialize_columns\u001b[49m\u001b[43m(\u001b[49m\u001b[43mcols\u001b[49m\u001b[43m)\u001b[49m\n\u001b[0;32m     90\u001b[0m \u001b[38;5;28mself\u001b[39m\u001b[38;5;241m.\u001b[39mchunksize \u001b[38;5;241m=\u001b[39m \u001b[38;5;28mself\u001b[39m\u001b[38;5;241m.\u001b[39m_initialize_chunksize(chunksize)\n",
      "File \u001b[1;32m~\\anaconda3\\lib\\site-packages\\pandas\\io\\formats\\csvs.py:156\u001b[0m, in \u001b[0;36mCSVFormatter._initialize_columns\u001b[1;34m(self, cols)\u001b[0m\n\u001b[0;32m    154\u001b[0m     \u001b[38;5;28;01melse\u001b[39;00m:\n\u001b[0;32m    155\u001b[0m         cols \u001b[38;5;241m=\u001b[39m \u001b[38;5;28mlist\u001b[39m(cols)\n\u001b[1;32m--> 156\u001b[0m     \u001b[38;5;28mself\u001b[39m\u001b[38;5;241m.\u001b[39mobj \u001b[38;5;241m=\u001b[39m \u001b[38;5;28;43mself\u001b[39;49m\u001b[38;5;241;43m.\u001b[39;49m\u001b[43mobj\u001b[49m\u001b[38;5;241;43m.\u001b[39;49m\u001b[43mloc\u001b[49m\u001b[43m[\u001b[49m\u001b[43m:\u001b[49m\u001b[43m,\u001b[49m\u001b[43m \u001b[49m\u001b[43mcols\u001b[49m\u001b[43m]\u001b[49m\n\u001b[0;32m    158\u001b[0m \u001b[38;5;66;03m# update columns to include possible multiplicity of dupes\u001b[39;00m\n\u001b[0;32m    159\u001b[0m \u001b[38;5;66;03m# and make sure cols is just a list of labels\u001b[39;00m\n\u001b[0;32m    160\u001b[0m new_cols \u001b[38;5;241m=\u001b[39m \u001b[38;5;28mself\u001b[39m\u001b[38;5;241m.\u001b[39mobj\u001b[38;5;241m.\u001b[39mcolumns\n",
      "File \u001b[1;32m~\\anaconda3\\lib\\site-packages\\pandas\\core\\indexing.py:1067\u001b[0m, in \u001b[0;36m_LocationIndexer.__getitem__\u001b[1;34m(self, key)\u001b[0m\n\u001b[0;32m   1065\u001b[0m     \u001b[38;5;28;01mif\u001b[39;00m \u001b[38;5;28mself\u001b[39m\u001b[38;5;241m.\u001b[39m_is_scalar_access(key):\n\u001b[0;32m   1066\u001b[0m         \u001b[38;5;28;01mreturn\u001b[39;00m \u001b[38;5;28mself\u001b[39m\u001b[38;5;241m.\u001b[39mobj\u001b[38;5;241m.\u001b[39m_get_value(\u001b[38;5;241m*\u001b[39mkey, takeable\u001b[38;5;241m=\u001b[39m\u001b[38;5;28mself\u001b[39m\u001b[38;5;241m.\u001b[39m_takeable)\n\u001b[1;32m-> 1067\u001b[0m     \u001b[38;5;28;01mreturn\u001b[39;00m \u001b[38;5;28;43mself\u001b[39;49m\u001b[38;5;241;43m.\u001b[39;49m\u001b[43m_getitem_tuple\u001b[49m\u001b[43m(\u001b[49m\u001b[43mkey\u001b[49m\u001b[43m)\u001b[49m\n\u001b[0;32m   1068\u001b[0m \u001b[38;5;28;01melse\u001b[39;00m:\n\u001b[0;32m   1069\u001b[0m     \u001b[38;5;66;03m# we by definition only have the 0th axis\u001b[39;00m\n\u001b[0;32m   1070\u001b[0m     axis \u001b[38;5;241m=\u001b[39m \u001b[38;5;28mself\u001b[39m\u001b[38;5;241m.\u001b[39maxis \u001b[38;5;129;01mor\u001b[39;00m \u001b[38;5;241m0\u001b[39m\n",
      "File \u001b[1;32m~\\anaconda3\\lib\\site-packages\\pandas\\core\\indexing.py:1256\u001b[0m, in \u001b[0;36m_LocIndexer._getitem_tuple\u001b[1;34m(self, tup)\u001b[0m\n\u001b[0;32m   1253\u001b[0m \u001b[38;5;28;01mif\u001b[39;00m \u001b[38;5;28mself\u001b[39m\u001b[38;5;241m.\u001b[39m_multi_take_opportunity(tup):\n\u001b[0;32m   1254\u001b[0m     \u001b[38;5;28;01mreturn\u001b[39;00m \u001b[38;5;28mself\u001b[39m\u001b[38;5;241m.\u001b[39m_multi_take(tup)\n\u001b[1;32m-> 1256\u001b[0m \u001b[38;5;28;01mreturn\u001b[39;00m \u001b[38;5;28;43mself\u001b[39;49m\u001b[38;5;241;43m.\u001b[39;49m\u001b[43m_getitem_tuple_same_dim\u001b[49m\u001b[43m(\u001b[49m\u001b[43mtup\u001b[49m\u001b[43m)\u001b[49m\n",
      "File \u001b[1;32m~\\anaconda3\\lib\\site-packages\\pandas\\core\\indexing.py:924\u001b[0m, in \u001b[0;36m_LocationIndexer._getitem_tuple_same_dim\u001b[1;34m(self, tup)\u001b[0m\n\u001b[0;32m    921\u001b[0m \u001b[38;5;28;01mif\u001b[39;00m com\u001b[38;5;241m.\u001b[39mis_null_slice(key):\n\u001b[0;32m    922\u001b[0m     \u001b[38;5;28;01mcontinue\u001b[39;00m\n\u001b[1;32m--> 924\u001b[0m retval \u001b[38;5;241m=\u001b[39m \u001b[38;5;28;43mgetattr\u001b[39;49m\u001b[43m(\u001b[49m\u001b[43mretval\u001b[49m\u001b[43m,\u001b[49m\u001b[43m \u001b[49m\u001b[38;5;28;43mself\u001b[39;49m\u001b[38;5;241;43m.\u001b[39;49m\u001b[43mname\u001b[49m\u001b[43m)\u001b[49m\u001b[38;5;241;43m.\u001b[39;49m\u001b[43m_getitem_axis\u001b[49m\u001b[43m(\u001b[49m\u001b[43mkey\u001b[49m\u001b[43m,\u001b[49m\u001b[43m \u001b[49m\u001b[43maxis\u001b[49m\u001b[38;5;241;43m=\u001b[39;49m\u001b[43mi\u001b[49m\u001b[43m)\u001b[49m\n\u001b[0;32m    925\u001b[0m \u001b[38;5;66;03m# We should never have retval.ndim < self.ndim, as that should\u001b[39;00m\n\u001b[0;32m    926\u001b[0m \u001b[38;5;66;03m#  be handled by the _getitem_lowerdim call above.\u001b[39;00m\n\u001b[0;32m    927\u001b[0m \u001b[38;5;28;01massert\u001b[39;00m retval\u001b[38;5;241m.\u001b[39mndim \u001b[38;5;241m==\u001b[39m \u001b[38;5;28mself\u001b[39m\u001b[38;5;241m.\u001b[39mndim\n",
      "File \u001b[1;32m~\\anaconda3\\lib\\site-packages\\pandas\\core\\indexing.py:1301\u001b[0m, in \u001b[0;36m_LocIndexer._getitem_axis\u001b[1;34m(self, key, axis)\u001b[0m\n\u001b[0;32m   1298\u001b[0m     \u001b[38;5;28;01mif\u001b[39;00m \u001b[38;5;28mhasattr\u001b[39m(key, \u001b[38;5;124m\"\u001b[39m\u001b[38;5;124mndim\u001b[39m\u001b[38;5;124m\"\u001b[39m) \u001b[38;5;129;01mand\u001b[39;00m key\u001b[38;5;241m.\u001b[39mndim \u001b[38;5;241m>\u001b[39m \u001b[38;5;241m1\u001b[39m:\n\u001b[0;32m   1299\u001b[0m         \u001b[38;5;28;01mraise\u001b[39;00m \u001b[38;5;167;01mValueError\u001b[39;00m(\u001b[38;5;124m\"\u001b[39m\u001b[38;5;124mCannot index with multidimensional key\u001b[39m\u001b[38;5;124m\"\u001b[39m)\n\u001b[1;32m-> 1301\u001b[0m     \u001b[38;5;28;01mreturn\u001b[39;00m \u001b[38;5;28;43mself\u001b[39;49m\u001b[38;5;241;43m.\u001b[39;49m\u001b[43m_getitem_iterable\u001b[49m\u001b[43m(\u001b[49m\u001b[43mkey\u001b[49m\u001b[43m,\u001b[49m\u001b[43m \u001b[49m\u001b[43maxis\u001b[49m\u001b[38;5;241;43m=\u001b[39;49m\u001b[43maxis\u001b[49m\u001b[43m)\u001b[49m\n\u001b[0;32m   1303\u001b[0m \u001b[38;5;66;03m# nested tuple slicing\u001b[39;00m\n\u001b[0;32m   1304\u001b[0m \u001b[38;5;28;01mif\u001b[39;00m is_nested_tuple(key, labels):\n",
      "File \u001b[1;32m~\\anaconda3\\lib\\site-packages\\pandas\\core\\indexing.py:1239\u001b[0m, in \u001b[0;36m_LocIndexer._getitem_iterable\u001b[1;34m(self, key, axis)\u001b[0m\n\u001b[0;32m   1236\u001b[0m \u001b[38;5;28mself\u001b[39m\u001b[38;5;241m.\u001b[39m_validate_key(key, axis)\n\u001b[0;32m   1238\u001b[0m \u001b[38;5;66;03m# A collection of keys\u001b[39;00m\n\u001b[1;32m-> 1239\u001b[0m keyarr, indexer \u001b[38;5;241m=\u001b[39m \u001b[38;5;28;43mself\u001b[39;49m\u001b[38;5;241;43m.\u001b[39;49m\u001b[43m_get_listlike_indexer\u001b[49m\u001b[43m(\u001b[49m\u001b[43mkey\u001b[49m\u001b[43m,\u001b[49m\u001b[43m \u001b[49m\u001b[43maxis\u001b[49m\u001b[43m)\u001b[49m\n\u001b[0;32m   1240\u001b[0m \u001b[38;5;28;01mreturn\u001b[39;00m \u001b[38;5;28mself\u001b[39m\u001b[38;5;241m.\u001b[39mobj\u001b[38;5;241m.\u001b[39m_reindex_with_indexers(\n\u001b[0;32m   1241\u001b[0m     {axis: [keyarr, indexer]}, copy\u001b[38;5;241m=\u001b[39m\u001b[38;5;28;01mTrue\u001b[39;00m, allow_dups\u001b[38;5;241m=\u001b[39m\u001b[38;5;28;01mTrue\u001b[39;00m\n\u001b[0;32m   1242\u001b[0m )\n",
      "File \u001b[1;32m~\\anaconda3\\lib\\site-packages\\pandas\\core\\indexing.py:1432\u001b[0m, in \u001b[0;36m_LocIndexer._get_listlike_indexer\u001b[1;34m(self, key, axis)\u001b[0m\n\u001b[0;32m   1429\u001b[0m ax \u001b[38;5;241m=\u001b[39m \u001b[38;5;28mself\u001b[39m\u001b[38;5;241m.\u001b[39mobj\u001b[38;5;241m.\u001b[39m_get_axis(axis)\n\u001b[0;32m   1430\u001b[0m axis_name \u001b[38;5;241m=\u001b[39m \u001b[38;5;28mself\u001b[39m\u001b[38;5;241m.\u001b[39mobj\u001b[38;5;241m.\u001b[39m_get_axis_name(axis)\n\u001b[1;32m-> 1432\u001b[0m keyarr, indexer \u001b[38;5;241m=\u001b[39m \u001b[43max\u001b[49m\u001b[38;5;241;43m.\u001b[39;49m\u001b[43m_get_indexer_strict\u001b[49m\u001b[43m(\u001b[49m\u001b[43mkey\u001b[49m\u001b[43m,\u001b[49m\u001b[43m \u001b[49m\u001b[43maxis_name\u001b[49m\u001b[43m)\u001b[49m\n\u001b[0;32m   1434\u001b[0m \u001b[38;5;28;01mreturn\u001b[39;00m keyarr, indexer\n",
      "File \u001b[1;32m~\\anaconda3\\lib\\site-packages\\pandas\\core\\indexes\\base.py:6070\u001b[0m, in \u001b[0;36mIndex._get_indexer_strict\u001b[1;34m(self, key, axis_name)\u001b[0m\n\u001b[0;32m   6067\u001b[0m \u001b[38;5;28;01melse\u001b[39;00m:\n\u001b[0;32m   6068\u001b[0m     keyarr, indexer, new_indexer \u001b[38;5;241m=\u001b[39m \u001b[38;5;28mself\u001b[39m\u001b[38;5;241m.\u001b[39m_reindex_non_unique(keyarr)\n\u001b[1;32m-> 6070\u001b[0m \u001b[38;5;28;43mself\u001b[39;49m\u001b[38;5;241;43m.\u001b[39;49m\u001b[43m_raise_if_missing\u001b[49m\u001b[43m(\u001b[49m\u001b[43mkeyarr\u001b[49m\u001b[43m,\u001b[49m\u001b[43m \u001b[49m\u001b[43mindexer\u001b[49m\u001b[43m,\u001b[49m\u001b[43m \u001b[49m\u001b[43maxis_name\u001b[49m\u001b[43m)\u001b[49m\n\u001b[0;32m   6072\u001b[0m keyarr \u001b[38;5;241m=\u001b[39m \u001b[38;5;28mself\u001b[39m\u001b[38;5;241m.\u001b[39mtake(indexer)\n\u001b[0;32m   6073\u001b[0m \u001b[38;5;28;01mif\u001b[39;00m \u001b[38;5;28misinstance\u001b[39m(key, Index):\n\u001b[0;32m   6074\u001b[0m     \u001b[38;5;66;03m# GH 42790 - Preserve name from an Index\u001b[39;00m\n",
      "File \u001b[1;32m~\\anaconda3\\lib\\site-packages\\pandas\\core\\indexes\\base.py:6130\u001b[0m, in \u001b[0;36mIndex._raise_if_missing\u001b[1;34m(self, key, indexer, axis_name)\u001b[0m\n\u001b[0;32m   6128\u001b[0m     \u001b[38;5;28;01mif\u001b[39;00m use_interval_msg:\n\u001b[0;32m   6129\u001b[0m         key \u001b[38;5;241m=\u001b[39m \u001b[38;5;28mlist\u001b[39m(key)\n\u001b[1;32m-> 6130\u001b[0m     \u001b[38;5;28;01mraise\u001b[39;00m \u001b[38;5;167;01mKeyError\u001b[39;00m(\u001b[38;5;124mf\u001b[39m\u001b[38;5;124m\"\u001b[39m\u001b[38;5;124mNone of [\u001b[39m\u001b[38;5;132;01m{\u001b[39;00mkey\u001b[38;5;132;01m}\u001b[39;00m\u001b[38;5;124m] are in the [\u001b[39m\u001b[38;5;132;01m{\u001b[39;00maxis_name\u001b[38;5;132;01m}\u001b[39;00m\u001b[38;5;124m]\u001b[39m\u001b[38;5;124m\"\u001b[39m)\n\u001b[0;32m   6132\u001b[0m not_found \u001b[38;5;241m=\u001b[39m \u001b[38;5;28mlist\u001b[39m(ensure_index(key)[missing_mask\u001b[38;5;241m.\u001b[39mnonzero()[\u001b[38;5;241m0\u001b[39m]]\u001b[38;5;241m.\u001b[39munique())\n\u001b[0;32m   6133\u001b[0m \u001b[38;5;28;01mraise\u001b[39;00m \u001b[38;5;167;01mKeyError\u001b[39;00m(\u001b[38;5;124mf\u001b[39m\u001b[38;5;124m\"\u001b[39m\u001b[38;5;132;01m{\u001b[39;00mnot_found\u001b[38;5;132;01m}\u001b[39;00m\u001b[38;5;124m not in index\u001b[39m\u001b[38;5;124m\"\u001b[39m)\n",
      "\u001b[1;31mKeyError\u001b[0m: \"None of [Index(['Height', 'Z Score', 'Z score > 3?', 'Height.1',\\n       'Height - median height', 'Mod Z Score', 'mod Z score > 3.5 ?'],\\n      dtype='object')] are in the [columns]\""
     ]
    }
   ],
   "source": [
    "df.to_csv('koti_1.csv',index=False,columns=['Height', 'Z Score', 'Z score > 3?', 'Height.1',\n",
    "       'Height - median height', 'Mod Z Score', 'mod Z score > 3.5 ?'])"
   ]
  },
  {
   "cell_type": "code",
   "execution_count": null,
   "id": "f593f6bc",
   "metadata": {},
   "outputs": [],
   "source": [
    "#using parse_dates=['day'] it converts toatal days column dtype:-str to dtype:-datetime\n",
    "df_1 = pd.read_excel(r\"C:\\Users\\kotesh\\OneDrive\\Documents\\weather.xlsx\",parse_dates=['day'])\n",
    "df_1.index +=1\n",
    "# or \n",
    "df_1['day'] = pd.to_datetime(df_1['day'])\n",
    "df_1.info()"
   ]
  },
  {
   "cell_type": "markdown",
   "id": "54d2d796",
   "metadata": {},
   "source": [
    "# Missing Data \n",
    "## filna,dropna,interpolate"
   ]
  },
  {
   "cell_type": "code",
   "execution_count": 3,
   "id": "1c9f1b1e",
   "metadata": {},
   "outputs": [],
   "source": [
    "import matplotlib.pyplot as plt\n",
    "%matplotlib inline"
   ]
  },
  {
   "cell_type": "code",
   "execution_count": 4,
   "id": "e913f158",
   "metadata": {},
   "outputs": [
    {
     "ename": "NameError",
     "evalue": "name 'pd' is not defined",
     "output_type": "error",
     "traceback": [
      "\u001b[1;31m---------------------------------------------------------------------------\u001b[0m",
      "\u001b[1;31mNameError\u001b[0m                                 Traceback (most recent call last)",
      "Cell \u001b[1;32mIn[4], line 1\u001b[0m\n\u001b[1;32m----> 1\u001b[0m df \u001b[38;5;241m=\u001b[39m \u001b[43mpd\u001b[49m\u001b[38;5;241m.\u001b[39mread_excel(\u001b[38;5;124mr\u001b[39m\u001b[38;5;124m\"\u001b[39m\u001b[38;5;124mC:\u001b[39m\u001b[38;5;124m\\\u001b[39m\u001b[38;5;124mUsers\u001b[39m\u001b[38;5;124m\\\u001b[39m\u001b[38;5;124mkotesh\u001b[39m\u001b[38;5;124m\\\u001b[39m\u001b[38;5;124mOneDrive\u001b[39m\u001b[38;5;124m\\\u001b[39m\u001b[38;5;124mDocuments\u001b[39m\u001b[38;5;124m\\\u001b[39m\u001b[38;5;124mweather.xlsx\u001b[39m\u001b[38;5;124m\"\u001b[39m,parse_dates\u001b[38;5;241m=\u001b[39m[\u001b[38;5;124m'\u001b[39m\u001b[38;5;124mday\u001b[39m\u001b[38;5;124m'\u001b[39m])\n\u001b[0;32m      3\u001b[0m ndf\u001b[38;5;241m=\u001b[39mpd\u001b[38;5;241m.\u001b[39misnull(df[\u001b[38;5;124m'\u001b[39m\u001b[38;5;124mevent\u001b[39m\u001b[38;5;124m'\u001b[39m])\n\u001b[0;32m      4\u001b[0m \u001b[38;5;66;03m# filtering data\u001b[39;00m\n\u001b[0;32m      5\u001b[0m \u001b[38;5;66;03m# displaying data only NaN values in event\u001b[39;00m\n",
      "\u001b[1;31mNameError\u001b[0m: name 'pd' is not defined"
     ]
    }
   ],
   "source": [
    "df = pd.read_excel(r\"C:\\Users\\kotesh\\OneDrive\\Documents\\weather.xlsx\",parse_dates=['day'])\n",
    "\n",
    "ndf=pd.isnull(df['event'])\n",
    "# filtering data\n",
    "# displaying data only NaN values in event\n",
    "df[ndf]"
   ]
  },
  {
   "cell_type": "code",
   "execution_count": null,
   "id": "3a2afbaa",
   "metadata": {},
   "outputs": [],
   "source": [
    "# is shows dataframe without NaNa values in event\n",
    "ndf_1=pd.notnull(df['event'])\n",
    "df[ndf_1]"
   ]
  },
  {
   "cell_type": "code",
   "execution_count": null,
   "id": "44b8d587",
   "metadata": {},
   "outputs": [],
   "source": [
    "plt.bar(df['day'],df['tempereture'],label='dates/tempe',color='r')\n",
    "plt.legend(loc='upper right')\n"
   ]
  },
  {
   "cell_type": "code",
   "execution_count": null,
   "id": "fd3efd3d",
   "metadata": {},
   "outputs": [],
   "source": [
    "w_df = pd.read_excel(r\"C:\\Users\\kotesh\\OneDrive\\Documents\\weather.xlsx\")\n",
    "w_df"
   ]
  },
  {
   "cell_type": "code",
   "execution_count": null,
   "id": "3723f1a9",
   "metadata": {},
   "outputs": [],
   "source": [
    "w_df.info()"
   ]
  },
  {
   "cell_type": "code",
   "execution_count": null,
   "id": "2b2521f5",
   "metadata": {},
   "outputs": [],
   "source": [
    "w_df.describe()"
   ]
  },
  {
   "cell_type": "markdown",
   "id": "d2d83672",
   "metadata": {},
   "source": [
    "# isnull()"
   ]
  },
  {
   "cell_type": "code",
   "execution_count": null,
   "id": "3f5ad251",
   "metadata": {},
   "outputs": [],
   "source": [
    "# creating bool series True for NaN values\n",
    "pd.isnull(w_df)"
   ]
  },
  {
   "cell_type": "markdown",
   "id": "cacf498b",
   "metadata": {},
   "source": [
    "# notnull()"
   ]
  },
  {
   "cell_type": "code",
   "execution_count": null,
   "id": "df4e7aa0",
   "metadata": {},
   "outputs": [],
   "source": [
    "# creating bool series True for notNaN values\n",
    "pd.notnull(w_df)"
   ]
  },
  {
   "cell_type": "code",
   "execution_count": null,
   "id": "f6e8aabd",
   "metadata": {},
   "outputs": [],
   "source": [
    "w_df.dtypes"
   ]
  },
  {
   "cell_type": "markdown",
   "id": "511aae15",
   "metadata": {},
   "source": [
    "# Fillna()"
   ]
  },
  {
   "cell_type": "code",
   "execution_count": null,
   "id": "4f46ed9b",
   "metadata": {},
   "outputs": [],
   "source": [
    "w_df.fillna(0)"
   ]
  },
  {
   "cell_type": "code",
   "execution_count": null,
   "id": "e3005402",
   "metadata": {},
   "outputs": [],
   "source": [
    "w_df.fillna(method='ffill')"
   ]
  },
  {
   "cell_type": "code",
   "execution_count": null,
   "id": "79b58255",
   "metadata": {},
   "outputs": [],
   "source": [
    "w_df.fillna(method=\"bfill\")"
   ]
  },
  {
   "cell_type": "markdown",
   "id": "a95820c3",
   "metadata": {},
   "source": [
    "# interpolate"
   ]
  },
  {
   "cell_type": "code",
   "execution_count": null,
   "id": "fe8eab10",
   "metadata": {},
   "outputs": [],
   "source": [
    "from scipy import interpolate\n",
    "# If all columns are numeric use   df.interpolate( )\n",
    "# If all columns are categorical   df.interpolate(method ='pad')\n",
    "\n",
    "w_df[['tempereture','windspeed']].interpolate(inplace=True)\n",
    "w_df.index +=1\n",
    "w_df\n",
    "#perameters method='time'"
   ]
  },
  {
   "cell_type": "code",
   "execution_count": null,
   "id": "4c205ede",
   "metadata": {},
   "outputs": [],
   "source": [
    "#w_df_1 = w_df.drop('event','day',axis=1)\n",
    "w_df[['tempereture','windspeed']].interpolate()"
   ]
  },
  {
   "cell_type": "markdown",
   "id": "d45dfe51",
   "metadata": {},
   "source": [
    "# dropna()"
   ]
  },
  {
   "cell_type": "code",
   "execution_count": null,
   "id": "e4822bae",
   "metadata": {},
   "outputs": [],
   "source": [
    "# dropna() drop all NaNa valuse and print the rows that only having without NaNa value in that row\n",
    "w_df.dropna()"
   ]
  },
  {
   "cell_type": "code",
   "execution_count": null,
   "id": "debd27d6",
   "metadata": {},
   "outputs": [],
   "source": [
    "'''the dropna() function is used to specify the minimum number of non-null values \n",
    "that a row or column must have in order to be kept in the DataFrame.'''\n",
    "w_df.dropna(thresh=0)"
   ]
  },
  {
   "cell_type": "code",
   "execution_count": null,
   "id": "6517ffa6",
   "metadata": {},
   "outputs": [],
   "source": [
    "# get missing date in DataFrame\n",
    "dt =pd.date_range('01-01-2023','01-12-2023')\n",
    "ind = pd.DatetimeIndex(dt)\n",
    "new_df = w_df.reindex(ind)\n",
    "new_df"
   ]
  },
  {
   "cell_type": "markdown",
   "id": "0f1f4d10",
   "metadata": {},
   "source": [
    "# replace"
   ]
  },
  {
   "cell_type": "code",
   "execution_count": null,
   "id": "88a79097",
   "metadata": {
    "scrolled": true
   },
   "outputs": [],
   "source": [
    "import numpy as np\n",
    "df_2 = pd.read_excel(r\"C:\\Users\\kotesh\\OneDrive\\Documents\\weather_2.xlsx\",parse_dates=True)\n",
    "df_2"
   ]
  },
  {
   "cell_type": "code",
   "execution_count": null,
   "id": "22c6e5a0",
   "metadata": {},
   "outputs": [],
   "source": [
    "df_2.replace(0,np.NaN)"
   ]
  },
  {
   "cell_type": "code",
   "execution_count": null,
   "id": "c00867e0",
   "metadata": {},
   "outputs": [],
   "source": [
    "df_2.replace([-9999,-8888,0],np.NaN)"
   ]
  },
  {
   "cell_type": "code",
   "execution_count": null,
   "id": "96e56e1c",
   "metadata": {},
   "outputs": [],
   "source": [
    "df_2.replace({'event' : 0 ,\n",
    "              'tempereture' : -9999 , \n",
    "             'windspeed' : -8888,\n",
    "             'windspeed' : -1111,},np.NaN)"
   ]
  },
  {
   "cell_type": "code",
   "execution_count": null,
   "id": "0b6c7879",
   "metadata": {},
   "outputs": [],
   "source": [
    "df_2.replace({ -9999 : np.NaN,\n",
    "              0 : 'sunny',\n",
    "})"
   ]
  },
  {
   "cell_type": "code",
   "execution_count": null,
   "id": "175f48c6",
   "metadata": {},
   "outputs": [],
   "source": [
    "df1 = pd.read_csv(r\"C:\\Users\\kotesh\\Downloads\\nba.csv\")\n",
    "df1.replace('Avery Bradley','koti')\n",
    "#df1"
   ]
  },
  {
   "cell_type": "code",
   "execution_count": null,
   "id": "a1a1564d",
   "metadata": {},
   "outputs": [],
   "source": [
    "df1.replace(['Boston Celtics','Utah Jazz'],'koti')"
   ]
  },
  {
   "cell_type": "code",
   "execution_count": null,
   "id": "07e6a93f",
   "metadata": {},
   "outputs": [],
   "source": [
    "df1.replace(np.NaN,-9999)"
   ]
  },
  {
   "cell_type": "code",
   "execution_count": null,
   "id": "ca7b456e",
   "metadata": {},
   "outputs": [],
   "source": [
    "g=df1.groupby('Team')\n",
    "for Team,Team_df1 in g:\n",
    "    print(Team)\n",
    "    print(Team_df1)"
   ]
  },
  {
   "cell_type": "code",
   "execution_count": null,
   "id": "a398d77b",
   "metadata": {},
   "outputs": [],
   "source": [
    "# remove 6kph or 5kg or 23F or 30C remove alphabatics in that number \n",
    "df_2.replace('[A-Za-z]','',regex=True)"
   ]
  },
  {
   "cell_type": "code",
   "execution_count": null,
   "id": "fc0d3805",
   "metadata": {},
   "outputs": [],
   "source": [
    "df_2.replace({\n",
    "    'tempereture' : '[A-Za-z]',\n",
    "    'windspeed' : '[A-Za-z]'},'',regex=True)"
   ]
  },
  {
   "cell_type": "code",
   "execution_count": null,
   "id": "b62d612f",
   "metadata": {},
   "outputs": [],
   "source": [
    "df_2.replace(['rain','sunny','snow',0,'rain'],[1,2,3,'hot','1'])"
   ]
  },
  {
   "cell_type": "markdown",
   "id": "cf35c82f",
   "metadata": {},
   "source": [
    "# Group(split apply combine)"
   ]
  },
  {
   "cell_type": "code",
   "execution_count": null,
   "id": "58779276",
   "metadata": {},
   "outputs": [],
   "source": [
    "weather_df = pd.read_excel(r\"C:\\Users\\kotesh\\OneDrive\\Documents\\weather_2.xlsx\",'weather_repeort',header=None,names=['DATES','CITY','TEMPERATURE','WINDSPEED','EVENT'],parse_dates=True,index_col='DATES')      \n",
    "weather_df"
   ]
  },
  {
   "cell_type": "markdown",
   "id": "10f711d1",
   "metadata": {},
   "source": [
    "find what is the maximum temperature & windspeed of the each citys ?\n"
   ]
  },
  {
   "cell_type": "code",
   "execution_count": null,
   "id": "9bbcfd60",
   "metadata": {},
   "outputs": [],
   "source": [
    "group = weather_df.groupby('CITY')"
   ]
  },
  {
   "cell_type": "code",
   "execution_count": null,
   "id": "f9244f1f",
   "metadata": {},
   "outputs": [],
   "source": [
    "for CITY,CITY_weather_df in group:\n",
    "    print(CITY)\n",
    "    print(CITY_weather_df)"
   ]
  },
  {
   "cell_type": "code",
   "execution_count": null,
   "id": "10fa6f04",
   "metadata": {},
   "outputs": [],
   "source": [
    "group.max()"
   ]
  },
  {
   "cell_type": "code",
   "execution_count": null,
   "id": "b0d329df",
   "metadata": {},
   "outputs": [],
   "source": [
    "ak = group.mean()\n",
    "ak"
   ]
  },
  {
   "cell_type": "code",
   "execution_count": null,
   "id": "2a93e25d",
   "metadata": {
    "scrolled": false
   },
   "outputs": [],
   "source": [
    "import matplotlib.pyplot as plt\n",
    "%matplotlib inline\n",
    "\n",
    "ak.plot()\n",
    "plt.title('GRAPH')"
   ]
  },
  {
   "cell_type": "code",
   "execution_count": null,
   "id": "641522ee",
   "metadata": {},
   "outputs": [],
   "source": [
    "group.mean()"
   ]
  },
  {
   "cell_type": "code",
   "execution_count": null,
   "id": "2cf3e9a4",
   "metadata": {},
   "outputs": [],
   "source": [
    "group.plot()"
   ]
  },
  {
   "cell_type": "code",
   "execution_count": null,
   "id": "7abf60e0",
   "metadata": {},
   "outputs": [],
   "source": [
    "group.hist()\n",
    "plt.ylim(0,2.5)"
   ]
  },
  {
   "cell_type": "code",
   "execution_count": null,
   "id": "904e9f74",
   "metadata": {
    "scrolled": true
   },
   "outputs": [],
   "source": [
    "import yfinance as yf"
   ]
  },
  {
   "cell_type": "code",
   "execution_count": null,
   "id": "ad3b97fe",
   "metadata": {},
   "outputs": [],
   "source": [
    "# to install any libary use !pip install lib name\n",
    "!pip install yfinance"
   ]
  },
  {
   "cell_type": "code",
   "execution_count": null,
   "id": "a217af25",
   "metadata": {},
   "outputs": [],
   "source": [
    "# update any lib use !pip install --upgrade lib name\n",
    "!pip install  --upgrade mplfinance"
   ]
  },
  {
   "cell_type": "code",
   "execution_count": null,
   "id": "7d00a8ac",
   "metadata": {},
   "outputs": [],
   "source": [
    "import pyautogui as pg"
   ]
  },
  {
   "cell_type": "code",
   "execution_count": null,
   "id": "e4a68ce9",
   "metadata": {},
   "outputs": [],
   "source": [
    "!pyautogui "
   ]
  },
  {
   "cell_type": "code",
   "execution_count": null,
   "id": "6dc11602",
   "metadata": {},
   "outputs": [],
   "source": []
  },
  {
   "cell_type": "code",
   "execution_count": null,
   "id": "d04bf792",
   "metadata": {},
   "outputs": [],
   "source": [
    "import numpy as np \n",
    "import pandas as pd\n",
    "%reload_ext autoreload\n",
    "%autoreload"
   ]
  },
  {
   "cell_type": "code",
   "execution_count": null,
   "id": "ccb3822d",
   "metadata": {},
   "outputs": [],
   "source": [
    "ser_1 = ['a','b','c','d','e']\n",
    "label_1 = [1,2,3,4,5]\n",
    "data_1 = pd.Series(data=ser_1,index=label_1)\n",
    "data_1"
   ]
  },
  {
   "cell_type": "code",
   "execution_count": null,
   "id": "00940d43",
   "metadata": {},
   "outputs": [],
   "source": [
    "ser_2 = {'Name:-':'Koti','Branch:-':'Robotics','Year':'4th year','age:-':21,'Gender:-':'Male','Sem:-':'7th sem'}\n",
    "pd.Series(ser_2)"
   ]
  },
  {
   "cell_type": "markdown",
   "id": "5349a2f0",
   "metadata": {},
   "source": [
    "# Creating DataFrame"
   ]
  },
  {
   "cell_type": "code",
   "execution_count": null,
   "id": "c8577e5d",
   "metadata": {},
   "outputs": [],
   "source": [
    "arr = np.random.randint(10,20,size=(2,3))\n",
    "df_1 = pd.DataFrame(arr,['row-1','row-2'],['col-1','col-2','col-3'])\n",
    "df_1"
   ]
  },
  {
   "cell_type": "code",
   "execution_count": null,
   "id": "0f76c3c5",
   "metadata": {},
   "outputs": [],
   "source": [
    "# multi data frame\n",
    "df_2 = {'one':pd.Series([1,2,3,4,5],index=['a','b','c','d','e']),\n",
    "       'two': pd.Series([1,2,3,5],index=['a','b','c','e']),\n",
    "       'three': pd.Series([1,2,3,4,5,6],index=['a','b','c','d','e','f'])}\n",
    "df_3 = pd.DataFrame(df_2)\n",
    "df_3"
   ]
  },
  {
   "cell_type": "code",
   "execution_count": null,
   "id": "1e484258",
   "metadata": {},
   "outputs": [],
   "source": [
    "print(df_3)\n",
    "df_3['one']"
   ]
  },
  {
   "cell_type": "markdown",
   "id": "5c4193a3",
   "metadata": {},
   "source": [
    "### loc & iloc\n"
   ]
  },
  {
   "cell_type": "code",
   "execution_count": null,
   "id": "ea8357a4",
   "metadata": {},
   "outputs": [],
   "source": [
    "df_3.iloc[5]"
   ]
  },
  {
   "cell_type": "code",
   "execution_count": null,
   "id": "607b6f6e",
   "metadata": {},
   "outputs": [],
   "source": [
    "# here the programs give u the object present in the particular row and column\n",
    "df_3.loc['a','one']"
   ]
  },
  {
   "cell_type": "code",
   "execution_count": null,
   "id": "40c2f904",
   "metadata": {},
   "outputs": [],
   "source": [
    "# add new column to the data set\n",
    "df_3['total']= df_3['one']+ df_3['two']+ df_3['three']+ df_3['four']\n",
    "df_3"
   ]
  },
  {
   "cell_type": "code",
   "execution_count": null,
   "id": "a69bae04",
   "metadata": {},
   "outputs": [],
   "source": [
    "# in loc['row name'] = pd.series({}) it prints new rows \n",
    "df_3.loc['f'] =  pd.Series({'one':10,'two':4,'three':5,'four':8,'total':27,'g':11,'f':12})\n",
    "df_3\n",
    "# in loc[:,'column name'] = pd.series({}) it prints new columns\n",
    "df_3.loc[:,'f'] =  pd.Series({'a':10,'b':4,'c':5,'d':8,'e':3,'f':11})"
   ]
  },
  {
   "cell_type": "markdown",
   "id": "258e4b73",
   "metadata": {},
   "source": [
    "### append \n",
    "we can add new column "
   ]
  },
  {
   "cell_type": "code",
   "execution_count": null,
   "id": "7a90e410",
   "metadata": {},
   "outputs": [],
   "source": [
    "df_2 = {'one':pd.Series([1,2,3,4,5],index=['a','b','c','d','e']),\n",
    "       'two': pd.Series([1,2,3,5],index=['a','b','c','e']),\n",
    "       'three': pd.Series([1,2,3,4,5,6],index=['a','b','c','d','e','f'])}\n",
    "df = pd.DataFrame(df_2)\n",
    "df"
   ]
  },
  {
   "cell_type": "code",
   "execution_count": null,
   "id": "1de33c3b",
   "metadata": {},
   "outputs": [],
   "source": [
    "arr = {'one':2,'two':3,'three':5}\n",
    "new_row = pd.Series(arr,name='g')\n",
    "df.append(new_row)"
   ]
  },
  {
   "cell_type": "code",
   "execution_count": null,
   "id": "a5578766",
   "metadata": {},
   "outputs": [],
   "source": [
    "# # drop columns use axis = 1 & drop rows use axis=0\n",
    "# df.drop('a',axis=0,inplace=True)\n",
    "# df.drop('three',axis=1,inplace=True)\n",
    "# df\n",
    "\n",
    "# # adding index \n",
    "# df['sex']=['koti','sai','bhai','ram','sitha']\n",
    "# df.set_index('sex',inplace = True)\n",
    "# df\n",
    "# removing the index from the table\n",
    "df.reset_index(inplace=True)\n",
    "df"
   ]
  },
  {
   "cell_type": "code",
   "execution_count": null,
   "id": "794e965a",
   "metadata": {},
   "outputs": [],
   "source": [
    "df.drop('index',axis=1,inplace=True)\n",
    "df.drop('level_0',axis=1,inplace=True)\n",
    "df"
   ]
  },
  {
   "cell_type": "code",
   "execution_count": null,
   "id": "c8ebaeee",
   "metadata": {},
   "outputs": [],
   "source": [
    "d = np.random.randint(20,50,size=(3,3))\n",
    "df = pd.DataFrame(d,['a','b','c'],['A','B','C'])\n",
    "print(df)\n",
    "# gt for greater than \n",
    "# lt for less than\n",
    "# le less than or equal to \n",
    "# ge greater than or equal to\n",
    "# ne equal to\n",
    "print('greater than 35\\n',df.gt(35.00))"
   ]
  },
  {
   "cell_type": "code",
   "execution_count": null,
   "id": "2e6837e9",
   "metadata": {},
   "outputs": [],
   "source": [
    "!pip install pymysql"
   ]
  },
  {
   "cell_type": "code",
   "execution_count": null,
   "id": "208ecd54",
   "metadata": {},
   "outputs": [],
   "source": [
    "import pymysql\n",
    "# import file \n",
    "df = pd.read_csv('file name')\n",
    "# save the file\n",
    "df.to_csv('rename.csv')\n",
    "# import excel file\n",
    "df = pd.read_excel('file name',sheet_name=)\n",
    "# u do not want index = False \n",
    "df.to_excel('rename.xlsxl',index=False)"
   ]
  },
  {
   "cell_type": "code",
   "execution_count": null,
   "id": "bbc6f8cf",
   "metadata": {},
   "outputs": [],
   "source": [
    "# when u are convertig object type to numerical type use \n",
    "# errors= 'coerec' during converstion some unconverted values convert into null values\n",
    "df['column name'] = df['weather'].astype('numerical')\n",
    "#df['column name'] = pd.to_numerical(df['column name'],errors='coerec')\n",
    "# converting some object type data to category column\n",
    "df['column name'] = df['weather'].astype('category')"
   ]
  },
  {
   "cell_type": "markdown",
   "id": "4249aace",
   "metadata": {},
   "source": [
    "# Create Test DataSets using Sklearn\n",
    "Python’s Sklearn library provides a great sample dataset generator which will help you to create your own custom dataset. It’s fast and very easy to use."
   ]
  },
  {
   "cell_type": "code",
   "execution_count": 119,
   "id": "89d7ee5a",
   "metadata": {},
   "outputs": [],
   "source": [
    "#  Creating Test DataSets using sklearn.datasets.make_blobs\n",
    "from sklearn.datasets import make_blobs\n",
    "import matplotlib.pyplot as plt\n",
    "%matplotlib inline\n",
    "from matplotlib import style"
   ]
  },
  {
   "cell_type": "code",
   "execution_count": 124,
   "id": "e1a4a6db",
   "metadata": {},
   "outputs": [
    {
     "name": "stdout",
     "output_type": "stream",
     "text": [
      "(500, 2)\n"
     ]
    }
   ],
   "source": [
    "#data_1 = make_blobs()\n",
    "X, y = make_blobs(n_samples=500,n_features=2,centers=4,cluster_std=1)\n",
    "print(X.shape)"
   ]
  },
  {
   "cell_type": "code",
   "execution_count": 125,
   "id": "47c59ace",
   "metadata": {
    "scrolled": true
   },
   "outputs": [
    {
     "name": "stdout",
     "output_type": "stream",
     "text": [
      "[1 0 1 3 1 0 3 2 1 3 3 2 1 1 3 3 3 1 0 3 2 0 1 2 1 0 2 2 0 2 2 0 0 0 3 0 2\n",
      " 1 3 1 0 1 2 2 3 3 3 1 1 0 3 2 1 2 3 2 0 1 3 0 0 0 2 2 1 0 0 3 2 1 1 2 1 2\n",
      " 0 1 3 3 3 1 1 1 3 1 2 0 2 2 0 2 1 3 1 0 0 0 0 3 1 3 0 3 2 3 0 2 1 1 2 0 2\n",
      " 1 2 3 0 1 3 0 1 1 3 1 2 1 2 0 1 1 3 2 3 1 0 3 1 3 3 2 1 0 3 3 1 3 2 3 1 2\n",
      " 3 0 1 0 3 1 1 2 1 3 1 0 3 1 0 1 0 1 3 1 3 3 2 1 1 1 3 3 0 1 1 2 1 2 2 0 3\n",
      " 3 2 1 2 0 2 3 1 0 3 2 1 0 0 2 3 3 1 1 2 2 1 3 2 2 1 1 0 3 2 0 1 2 1 3 0 2\n",
      " 3 2 3 3 0 2 2 2 0 1 1 3 2 2 2 0 2 0 0 3 0 2 1 3 2 0 3 0 1 3 3 2 0 1 2 0 2\n",
      " 1 0 1 3 3 1 0 0 2 0 2 1 0 2 2 1 1 0 2 2 2 1 0 1 1 0 1 2 0 3 3 2 2 3 3 2 3\n",
      " 0 2 3 2 0 3 2 1 0 3 0 2 1 0 1 0 2 0 0 3 2 2 1 3 0 1 1 2 3 3 2 1 0 3 3 3 1\n",
      " 1 1 0 0 2 0 3 3 0 2 0 0 3 2 3 3 0 3 0 2 1 1 3 3 1 0 1 1 1 3 0 3 1 2 1 3 0\n",
      " 3 1 2 0 2 0 0 2 3 0 0 1 0 3 1 2 3 0 3 3 3 3 0 3 3 3 2 0 0 1 2 1 2 2 2 0 0\n",
      " 3 3 3 0 2 3 3 1 2 3 2 2 0 3 2 1 2 2 3 2 0 3 1 2 0 0 1 0 1 3 2 1 3 0 2 0 2\n",
      " 3 1 0 0 1 0 2 2 2 3 0 1 0 2 0 0 0 1 3 2 1 0 3 2 0 2 2 1 2 1 3 2 2 0 3 1 2\n",
      " 0 0 0 0 1 2 0 1 0 3 1 2 3 1 3 0 2 1 3]\n",
      "500\n"
     ]
    },
    {
     "data": {
      "text/plain": [
       "array([[-1.03485539e+01, -2.26658040e+00],\n",
       "       [ 6.53296279e+00, -8.41170654e+00],\n",
       "       [-8.19746987e+00,  6.44039280e-01],\n",
       "       [ 4.41707608e+00,  8.57524177e+00],\n",
       "       [-7.58898988e+00, -2.05295288e+00],\n",
       "       [ 4.87884049e+00, -9.32510679e+00],\n",
       "       [ 6.44413724e+00,  6.71630115e+00],\n",
       "       [-3.17102260e+00, -2.25032802e+00],\n",
       "       [-9.16400152e+00, -2.00180956e+00],\n",
       "       [ 8.12204508e+00,  8.38150165e+00],\n",
       "       [ 6.30674793e+00,  7.41149441e+00],\n",
       "       [-3.76902528e+00, -1.57526150e+00],\n",
       "       [-7.91356114e+00, -1.00423545e+00],\n",
       "       [-9.43483790e+00, -1.22261202e+00],\n",
       "       [ 5.42329042e+00,  6.54970931e+00],\n",
       "       [ 4.95527154e+00,  5.81434981e+00],\n",
       "       [ 5.15316538e+00,  9.80047162e+00],\n",
       "       [-9.26914977e+00, -1.23893752e+00],\n",
       "       [ 5.90529964e+00, -8.57498691e+00],\n",
       "       [ 6.71851695e+00,  7.14600082e+00],\n",
       "       [-4.94952702e+00, -3.69424735e+00],\n",
       "       [ 4.74134673e+00, -8.80296554e+00],\n",
       "       [-1.17638862e+01, -1.27457978e+00],\n",
       "       [-2.87861934e+00, -8.61724319e-01],\n",
       "       [-7.86843488e+00, -3.54588113e-01],\n",
       "       [ 5.07531568e+00, -7.51859654e+00],\n",
       "       [-4.89345587e+00, -3.17190577e+00],\n",
       "       [-4.97464702e+00, -2.78424832e+00],\n",
       "       [ 6.10223396e+00, -9.78386830e+00],\n",
       "       [-4.79175444e+00, -3.86122453e+00],\n",
       "       [-4.39469731e+00, -2.72704642e+00],\n",
       "       [ 6.95893527e+00, -8.38431387e+00],\n",
       "       [ 6.74090286e+00, -7.78212019e+00],\n",
       "       [ 4.54757602e+00, -7.71134226e+00],\n",
       "       [ 6.93302265e+00,  8.60543972e+00],\n",
       "       [ 6.10012955e+00, -7.46000184e+00],\n",
       "       [-4.96745649e+00, -3.27376393e+00],\n",
       "       [-1.05565631e+01, -2.28502578e-01],\n",
       "       [ 5.17131841e+00,  9.26143058e+00],\n",
       "       [-8.40160853e+00,  1.18004757e-01],\n",
       "       [ 6.05001395e+00, -9.71241363e+00],\n",
       "       [-8.96963381e+00, -4.28399256e-01],\n",
       "       [-4.40931980e+00, -4.63533344e+00],\n",
       "       [-5.77610843e+00, -2.22304274e+00],\n",
       "       [ 6.96782667e+00,  7.45885258e+00],\n",
       "       [ 6.71320853e+00,  8.13030393e+00],\n",
       "       [ 6.83546305e+00,  8.04507997e+00],\n",
       "       [-7.99477105e+00, -1.26260625e+00],\n",
       "       [-1.06757084e+01, -2.48182755e+00],\n",
       "       [ 5.93386699e+00, -8.89276596e+00],\n",
       "       [ 4.73803052e+00,  6.20192582e+00],\n",
       "       [-4.93511295e+00, -2.81816491e+00],\n",
       "       [-8.54128380e+00, -3.46990922e+00],\n",
       "       [-5.48444462e+00, -2.83904631e+00],\n",
       "       [ 7.78346975e+00,  7.53425837e+00],\n",
       "       [-3.17251120e+00, -3.89752672e+00],\n",
       "       [ 7.11774804e+00, -8.45749917e+00],\n",
       "       [-8.82508237e+00, -2.50204555e+00],\n",
       "       [ 5.71874665e+00,  7.78799624e+00],\n",
       "       [ 7.40468551e+00, -9.06929194e+00],\n",
       "       [ 6.11524668e+00, -8.49346961e+00],\n",
       "       [ 5.97325380e+00, -8.71572491e+00],\n",
       "       [-4.38202237e+00, -3.08910198e+00],\n",
       "       [-2.43904015e+00, -2.19112763e+00],\n",
       "       [-1.03711458e+01, -9.81824577e-01],\n",
       "       [ 7.61547490e+00, -8.51670274e+00],\n",
       "       [ 5.78375468e+00, -7.16839211e+00],\n",
       "       [ 6.79099368e+00,  9.20641541e+00],\n",
       "       [-7.48373786e+00, -4.21037024e+00],\n",
       "       [-9.98136528e+00, -1.49509122e+00],\n",
       "       [-1.02922274e+01, -2.57784285e+00],\n",
       "       [-2.52821223e+00, -2.98892520e+00],\n",
       "       [-8.15647509e+00, -2.12750978e+00],\n",
       "       [-4.40515506e+00, -4.75834569e+00],\n",
       "       [ 4.98833335e+00, -8.60519441e+00],\n",
       "       [-7.30329375e+00, -1.01367607e+00],\n",
       "       [ 7.80080323e+00,  7.38161517e+00],\n",
       "       [ 5.49196086e+00,  8.19980463e+00],\n",
       "       [ 6.34106163e+00,  6.04711437e+00],\n",
       "       [-9.41174912e+00, -6.68123903e-01],\n",
       "       [-1.00878247e+01,  8.12069636e-01],\n",
       "       [-8.14146667e+00, -1.43902940e+00],\n",
       "       [ 6.76247391e+00,  8.14125519e+00],\n",
       "       [-1.01858565e+01, -3.93745932e+00],\n",
       "       [-4.94623142e+00, -3.94203280e+00],\n",
       "       [ 6.53403740e+00, -9.85367479e+00],\n",
       "       [-4.07431788e+00, -4.76757677e+00],\n",
       "       [-4.16114723e+00, -2.06528268e+00],\n",
       "       [ 7.12291982e+00, -1.04467370e+01],\n",
       "       [-6.32912086e+00, -2.68956137e+00],\n",
       "       [-8.61420608e+00, -1.25707299e+00],\n",
       "       [ 6.77572576e+00,  1.03230685e+01],\n",
       "       [-9.66288152e+00,  3.42187175e-01],\n",
       "       [ 7.02405991e+00, -8.92624166e+00],\n",
       "       [ 6.46110159e+00, -9.24282272e+00],\n",
       "       [ 4.42906650e+00, -9.75476843e+00],\n",
       "       [ 5.85808515e+00, -8.86336846e+00],\n",
       "       [ 4.37444689e+00,  8.69329639e+00],\n",
       "       [-8.93686447e+00, -4.26256190e-01],\n",
       "       [ 3.95141170e+00,  9.09575893e+00],\n",
       "       [ 6.28663735e+00, -7.93258612e+00],\n",
       "       [ 6.13160833e+00,  8.14751711e+00],\n",
       "       [-5.14919949e+00, -3.00849705e+00],\n",
       "       [ 3.52192567e+00,  8.73528801e+00],\n",
       "       [ 6.76928596e+00, -8.46167772e+00],\n",
       "       [-3.13125446e+00, -1.46823532e+00],\n",
       "       [-8.82257592e+00, -1.10390213e+00],\n",
       "       [-7.52493114e+00, -2.57662310e+00],\n",
       "       [-2.85875656e+00, -3.40665906e+00],\n",
       "       [ 7.19862960e+00, -6.88359666e+00],\n",
       "       [-5.13224883e+00, -3.26193406e+00],\n",
       "       [-1.05453530e+01, -1.54644362e+00],\n",
       "       [-2.48065882e+00, -3.20549215e+00],\n",
       "       [ 7.49591731e+00,  9.07346837e+00],\n",
       "       [ 7.89560060e+00, -7.60697995e+00],\n",
       "       [-8.84718114e+00, -3.00007304e+00],\n",
       "       [ 5.25486731e+00,  8.99134840e+00],\n",
       "       [ 4.86001014e+00, -9.61942026e+00],\n",
       "       [-1.04867462e+01, -9.47435778e-01],\n",
       "       [-8.36874800e+00, -2.08442755e+00],\n",
       "       [ 7.96354699e+00,  6.19384259e+00],\n",
       "       [-8.50670688e+00, -1.87201150e+00],\n",
       "       [-4.62829914e+00, -1.50923620e+00],\n",
       "       [-9.78656814e+00,  6.18061546e-01],\n",
       "       [-6.94904408e+00, -3.70945812e+00],\n",
       "       [ 6.62691235e+00, -9.09524954e+00],\n",
       "       [-1.05442883e+01, -1.29623906e+00],\n",
       "       [-7.51582034e+00, -2.41514410e+00],\n",
       "       [ 8.56660405e+00,  8.53285488e+00],\n",
       "       [-4.37667087e+00, -3.64794906e+00],\n",
       "       [ 5.36349437e+00,  6.94948258e+00],\n",
       "       [-9.55611979e+00, -1.70612683e+00],\n",
       "       [ 7.06324706e+00, -8.47097163e+00],\n",
       "       [ 5.29042472e+00,  8.88372841e+00],\n",
       "       [-9.58136749e+00, -4.02803940e-01],\n",
       "       [ 5.06534835e+00,  8.31333508e+00],\n",
       "       [ 5.70123152e+00,  7.12405731e+00],\n",
       "       [-4.30626341e+00, -3.90826223e+00],\n",
       "       [-9.14751884e+00, -2.84603922e+00],\n",
       "       [ 5.89260428e+00, -1.03372209e+01],\n",
       "       [ 4.66276311e+00,  1.07380430e+01],\n",
       "       [ 7.04363177e+00,  8.50943768e+00],\n",
       "       [-7.08679091e+00, -1.31485582e+00],\n",
       "       [ 5.90166840e+00,  8.59142325e+00],\n",
       "       [-4.69473136e+00, -4.15432807e+00],\n",
       "       [ 8.44077884e+00,  8.50263551e+00],\n",
       "       [-8.29635365e+00, -2.83684265e-01],\n",
       "       [-4.31194761e+00, -3.09816647e+00],\n",
       "       [ 7.72971849e+00,  9.82527084e+00],\n",
       "       [ 6.98680857e+00, -6.10093826e+00],\n",
       "       [-7.83202500e+00, -1.45625656e+00],\n",
       "       [ 6.70672511e+00, -1.02643044e+01],\n",
       "       [ 6.51185499e+00,  8.64054186e+00],\n",
       "       [-8.32299014e+00, -1.57586904e+00],\n",
       "       [-8.31037080e+00, -6.95719658e-01],\n",
       "       [-4.00439533e+00, -3.06401545e+00],\n",
       "       [-9.75501004e+00, -9.43071206e-01],\n",
       "       [ 6.03101956e+00,  7.95978900e+00],\n",
       "       [-8.49954818e+00, -2.48719566e+00],\n",
       "       [ 4.51812696e+00, -8.52547819e+00],\n",
       "       [ 5.54134684e+00,  7.00792369e+00],\n",
       "       [-9.09703596e+00, -2.11774571e+00],\n",
       "       [ 6.36243365e+00, -1.04278857e+01],\n",
       "       [-9.51706816e+00, -1.50578536e+00],\n",
       "       [ 5.75814659e+00, -7.65534816e+00],\n",
       "       [-1.02642825e+01, -1.15405062e+00],\n",
       "       [ 4.89542706e+00,  9.47268168e+00],\n",
       "       [-8.72788667e+00,  5.29654051e-01],\n",
       "       [ 7.25770045e+00,  6.98067528e+00],\n",
       "       [ 6.52572266e+00,  6.47683397e+00],\n",
       "       [-4.95681349e+00, -4.30109028e+00],\n",
       "       [-1.05759202e+01, -9.62808027e-01],\n",
       "       [-1.00144534e+01, -2.89510697e+00],\n",
       "       [-8.36415416e+00, -2.43599086e-01],\n",
       "       [ 5.14851986e+00,  6.95062144e+00],\n",
       "       [ 6.33207179e+00,  7.14923833e+00],\n",
       "       [ 5.62164874e+00, -8.89306058e+00],\n",
       "       [-9.45505757e+00, -1.26120422e+00],\n",
       "       [-1.02843224e+01, -8.82931313e-01],\n",
       "       [-4.45523731e+00, -3.30572060e+00],\n",
       "       [-9.28013707e+00, -1.00339464e+00],\n",
       "       [-4.61954370e+00, -2.71571628e+00],\n",
       "       [-6.60193401e+00, -1.65067701e+00],\n",
       "       [ 5.43523776e+00, -8.75610297e+00],\n",
       "       [ 7.27224442e+00,  7.79649879e+00],\n",
       "       [ 5.97094211e+00,  8.53725068e+00],\n",
       "       [-5.18022688e+00, -1.82433396e+00],\n",
       "       [-7.99474528e+00, -1.87017938e+00],\n",
       "       [-3.60354490e+00, -2.70844215e+00],\n",
       "       [ 5.79304388e+00, -8.52604555e+00],\n",
       "       [-4.37165547e+00, -3.44061050e+00],\n",
       "       [ 6.42570904e+00,  9.03140048e+00],\n",
       "       [-1.02363325e+01, -1.11885317e+00],\n",
       "       [ 4.79721076e+00, -7.99576572e+00],\n",
       "       [ 7.12446407e+00,  6.54680074e+00],\n",
       "       [-3.83045649e+00, -2.98027941e+00],\n",
       "       [-1.01392055e+01, -1.96379301e+00],\n",
       "       [ 6.80575617e+00, -9.80616136e+00],\n",
       "       [ 5.93648309e+00, -9.59548451e+00],\n",
       "       [-4.95351113e+00, -2.74970587e+00],\n",
       "       [ 6.81756948e+00,  9.92696278e+00],\n",
       "       [ 6.82880101e+00,  7.68061088e+00],\n",
       "       [-7.86543918e+00,  6.77080631e-02],\n",
       "       [-9.43851204e+00, -1.54025817e-01],\n",
       "       [-4.06729612e+00, -3.48652205e+00],\n",
       "       [-5.65443934e+00, -2.98999094e+00],\n",
       "       [-8.72721806e+00, -1.51571775e-01],\n",
       "       [ 5.78651957e+00,  8.92059669e+00],\n",
       "       [-3.49977249e+00, -5.80548140e+00],\n",
       "       [-5.00722449e+00, -5.13670454e+00],\n",
       "       [-8.19698231e+00, -1.31589180e+00],\n",
       "       [-9.63975869e+00, -1.80037430e+00],\n",
       "       [ 4.81588453e+00, -8.33572465e+00],\n",
       "       [ 4.54647711e+00,  7.53904245e+00],\n",
       "       [-5.97198018e+00, -4.60754337e+00],\n",
       "       [ 5.37846502e+00, -1.21197406e+01],\n",
       "       [-7.70644755e+00, -1.23588164e-01],\n",
       "       [-5.66749276e+00, -3.92013969e+00],\n",
       "       [-1.00545421e+01, -1.40703654e+00],\n",
       "       [ 6.93722096e+00,  8.11903217e+00],\n",
       "       [ 3.16043609e+00, -9.14695789e+00],\n",
       "       [-3.97385743e+00, -2.24531344e+00],\n",
       "       [ 6.63974113e+00,  7.50019271e+00],\n",
       "       [-4.46067427e+00, -3.29220335e+00],\n",
       "       [ 6.16278863e+00,  8.05621527e+00],\n",
       "       [ 6.29803151e+00,  6.16034957e+00],\n",
       "       [ 6.06265829e+00, -1.16787525e+01],\n",
       "       [-4.44530553e+00, -4.28023581e+00],\n",
       "       [-3.04778139e+00, -2.62133938e+00],\n",
       "       [-4.18718156e+00, -3.35843375e+00],\n",
       "       [ 5.85468402e+00, -7.41708284e+00],\n",
       "       [-8.20115278e+00, -1.78028143e+00],\n",
       "       [-9.42893572e+00, -2.22341203e+00],\n",
       "       [ 5.89336195e+00,  7.71272740e+00],\n",
       "       [-4.30199424e+00, -4.18534778e+00],\n",
       "       [-4.52756777e+00, -2.49638845e+00],\n",
       "       [-5.09749069e+00, -4.17509160e+00],\n",
       "       [ 5.11552015e+00, -8.24952123e+00],\n",
       "       [-5.20165990e+00, -3.56460720e+00],\n",
       "       [ 5.30729368e+00, -8.55162658e+00],\n",
       "       [ 8.53111643e+00, -7.42723122e+00],\n",
       "       [ 6.89228224e+00,  8.10125779e+00],\n",
       "       [ 3.98521715e+00, -8.73060258e+00],\n",
       "       [-3.84757206e+00, -2.66368965e+00],\n",
       "       [-8.28626066e+00, -9.51770498e-01],\n",
       "       [ 5.73391139e+00,  8.36570279e+00],\n",
       "       [-3.98068674e+00, -3.16734289e+00],\n",
       "       [ 5.19213755e+00, -9.02935657e+00],\n",
       "       [ 6.79245798e+00,  5.86640804e+00],\n",
       "       [ 7.54454697e+00, -9.19452103e+00],\n",
       "       [-8.30183981e+00,  1.05979546e+00],\n",
       "       [ 5.44208753e+00,  7.97055379e+00],\n",
       "       [ 5.92927003e+00,  8.66759771e+00],\n",
       "       [-4.31694193e+00, -3.00759876e+00],\n",
       "       [ 7.61637378e+00, -8.30938142e+00],\n",
       "       [-8.15902128e+00, -3.18644919e-01],\n",
       "       [-6.26325943e+00, -1.39929575e+00],\n",
       "       [ 7.11595682e+00, -9.11515894e+00],\n",
       "       [-4.87220589e+00, -4.00458338e+00],\n",
       "       [-9.18245353e+00, -2.03608556e+00],\n",
       "       [ 5.90095779e+00, -8.13119884e+00],\n",
       "       [-1.09247213e+01,  2.52987129e-01],\n",
       "       [ 6.22485438e+00,  6.82029101e+00],\n",
       "       [ 4.23317987e+00,  7.12536020e+00],\n",
       "       [-1.03810354e+01, -3.14855196e+00],\n",
       "       [ 6.01754879e+00, -7.36449367e+00],\n",
       "       [ 6.50193779e+00, -8.26964030e+00],\n",
       "       [-5.15010919e+00, -3.28763730e+00],\n",
       "       [ 4.82502576e+00, -8.61284910e+00],\n",
       "       [-4.98362036e+00, -4.51654825e+00],\n",
       "       [-7.95903147e+00, -7.75313488e-01],\n",
       "       [ 7.85894264e+00, -9.98393638e+00],\n",
       "       [-4.45104268e+00, -3.81088871e+00],\n",
       "       [-2.12459019e+00, -2.40833817e+00],\n",
       "       [-8.91158747e+00, -1.74547159e+00],\n",
       "       [-1.04896760e+01, -9.54296678e-01],\n",
       "       [ 5.98096885e+00, -8.64256587e+00],\n",
       "       [-5.24919576e+00, -4.26500596e+00],\n",
       "       [-4.56467324e+00, -2.43027359e+00],\n",
       "       [-6.26682857e+00, -3.94620410e+00],\n",
       "       [-8.74193506e+00, -1.42885454e+00],\n",
       "       [ 4.42263738e+00, -9.46880881e+00],\n",
       "       [-7.94540676e+00, -5.51144129e-01],\n",
       "       [-7.76559508e+00, -1.38560005e+00],\n",
       "       [ 4.55234556e+00, -8.04578414e+00],\n",
       "       [-8.42629741e+00, -4.33851299e-01],\n",
       "       [-2.62889799e+00, -3.20100535e+00],\n",
       "       [ 4.93364478e+00, -7.53055279e+00],\n",
       "       [ 4.81798171e+00,  8.02980200e+00],\n",
       "       [ 6.14126753e+00,  7.75416324e+00],\n",
       "       [-5.96375607e+00, -4.48843071e+00],\n",
       "       [-3.51132221e+00, -2.08194910e+00],\n",
       "       [ 4.69810195e+00,  8.02520159e+00],\n",
       "       [ 7.81565304e+00,  8.10200457e+00],\n",
       "       [-4.65425101e+00, -4.37112441e+00],\n",
       "       [ 6.53723059e+00,  1.00792543e+01],\n",
       "       [ 6.64566745e+00, -8.76490663e+00],\n",
       "       [-3.18157549e+00, -4.01621913e+00],\n",
       "       [ 6.50642785e+00,  7.60957288e+00],\n",
       "       [-2.87886131e+00, -4.97160397e+00],\n",
       "       [ 7.39164841e+00, -9.11713695e+00],\n",
       "       [ 4.23611568e+00,  7.93017552e+00],\n",
       "       [-5.25746134e+00, -3.49587409e+00],\n",
       "       [-8.75480703e+00, -3.34097140e+00],\n",
       "       [ 7.16022138e+00, -8.40610536e+00],\n",
       "       [ 7.04497358e+00,  7.38496922e+00],\n",
       "       [ 5.54998752e+00, -9.03938378e+00],\n",
       "       [-3.13833417e+00, -8.00892964e-01],\n",
       "       [-7.94698436e+00,  5.25650800e-01],\n",
       "       [ 6.33906790e+00, -9.54271249e+00],\n",
       "       [-9.48483234e+00,  1.61241841e-02],\n",
       "       [ 3.26157399e+00, -7.13297425e+00],\n",
       "       [-4.57112773e+00, -3.19023678e+00],\n",
       "       [ 5.03882086e+00, -7.89319214e+00],\n",
       "       [ 6.50783395e+00, -8.96634897e+00],\n",
       "       [ 5.30685388e+00,  8.49517637e+00],\n",
       "       [-5.21448665e+00, -3.05141827e+00],\n",
       "       [-4.57701523e+00, -4.44693681e+00],\n",
       "       [-9.93317778e+00, -2.42827772e+00],\n",
       "       [ 5.05744241e+00,  8.42335345e+00],\n",
       "       [ 5.38903685e+00, -8.60533530e+00],\n",
       "       [-7.98933959e+00, -7.55567436e-02],\n",
       "       [-1.02822527e+01, -1.03896822e+00],\n",
       "       [-4.21461119e+00, -4.29068080e+00],\n",
       "       [ 6.88535349e+00,  8.22136831e+00],\n",
       "       [ 5.67292878e+00,  9.11472285e+00],\n",
       "       [-3.87309493e+00, -6.39408243e+00],\n",
       "       [-9.20256586e+00,  4.99301684e-01],\n",
       "       [ 5.61728897e+00, -7.69741882e+00],\n",
       "       [ 6.00186004e+00,  9.51616432e+00],\n",
       "       [ 6.14397326e+00,  6.88460784e+00],\n",
       "       [ 6.39056481e+00,  8.12628276e+00],\n",
       "       [-7.64034017e+00, -2.84573508e-01],\n",
       "       [-8.96034694e+00,  1.37132364e-01],\n",
       "       [-9.55518435e+00, -1.33688620e+00],\n",
       "       [ 5.27646287e+00, -9.93576260e+00],\n",
       "       [ 6.26769915e+00, -8.47344860e+00],\n",
       "       [-3.89511704e+00, -2.72876531e+00],\n",
       "       [ 4.52746855e+00, -7.01290555e+00],\n",
       "       [ 6.06826001e+00,  9.08667977e+00],\n",
       "       [ 6.68624972e+00,  8.51114851e+00],\n",
       "       [ 4.33943644e+00, -9.33486245e+00],\n",
       "       [-3.96698603e+00, -2.35811823e+00],\n",
       "       [ 6.98957659e+00, -9.10307298e+00],\n",
       "       [ 6.56253849e+00, -9.66654635e+00],\n",
       "       [ 7.64415689e+00,  8.07155089e+00],\n",
       "       [-3.51961473e+00, -3.61089474e+00],\n",
       "       [ 5.44077679e+00,  7.88834726e+00],\n",
       "       [ 5.49970885e+00,  5.81014543e+00],\n",
       "       [ 5.99219650e+00, -9.20159801e+00],\n",
       "       [ 7.33422200e+00,  9.01651045e+00],\n",
       "       [ 5.63855739e+00, -7.80492711e+00],\n",
       "       [-4.14524340e+00, -2.46590202e+00],\n",
       "       [-9.04602764e+00, -9.41989464e-01],\n",
       "       [-9.28762696e+00, -3.25691357e+00],\n",
       "       [ 6.88513978e+00,  7.37178062e+00],\n",
       "       [ 6.66805567e+00,  8.64626995e+00],\n",
       "       [-9.81464193e+00, -2.12523373e-03],\n",
       "       [ 4.98521092e+00, -8.87725216e+00],\n",
       "       [-9.13471559e+00, -2.37742297e+00],\n",
       "       [-9.14872258e+00, -1.45213145e+00],\n",
       "       [-9.30682052e+00,  1.98216955e-01],\n",
       "       [ 6.99877256e+00,  7.89893478e+00],\n",
       "       [ 5.22453328e+00, -7.16216962e+00],\n",
       "       [ 6.28548105e+00,  8.88686712e+00],\n",
       "       [-7.29851865e+00, -9.10319357e-01],\n",
       "       [-4.89425337e+00, -4.45068313e+00],\n",
       "       [-9.42347328e+00, -3.28965626e+00],\n",
       "       [ 6.26521682e+00,  7.20675076e+00],\n",
       "       [ 8.19635627e+00, -8.03347925e+00],\n",
       "       [ 6.36707539e+00,  6.01238499e+00],\n",
       "       [-9.29902050e+00, -1.19659843e+00],\n",
       "       [-5.08785476e+00, -3.11602440e+00],\n",
       "       [ 5.41546066e+00, -9.23302513e+00],\n",
       "       [-5.12203623e+00, -1.10490790e+00],\n",
       "       [ 2.86178439e+00, -9.56753184e+00],\n",
       "       [ 5.04932861e+00, -8.96648143e+00],\n",
       "       [-5.01009139e+00, -3.61176046e+00],\n",
       "       [ 7.44648882e+00,  6.99175419e+00],\n",
       "       [ 5.56788165e+00, -9.54111699e+00],\n",
       "       [ 4.71667025e+00, -7.60935086e+00],\n",
       "       [-1.04603550e+01, -8.53205179e-01],\n",
       "       [ 4.27807336e+00, -8.19000457e+00],\n",
       "       [ 6.78062670e+00,  7.69390801e+00],\n",
       "       [-8.86669573e+00, -7.07056065e-01],\n",
       "       [-3.38045759e+00, -5.39833532e+00],\n",
       "       [ 6.02287019e+00,  6.15096457e+00],\n",
       "       [ 6.53507008e+00, -7.60538368e+00],\n",
       "       [ 7.14908441e+00,  7.41786118e+00],\n",
       "       [ 4.98804434e+00,  8.70813434e+00],\n",
       "       [ 6.00918931e+00,  9.34049060e+00],\n",
       "       [ 3.83727335e+00,  7.96105770e+00],\n",
       "       [ 3.35842687e+00, -8.13426938e+00],\n",
       "       [ 6.82370990e+00,  8.81846310e+00],\n",
       "       [ 6.08729414e+00,  7.81759400e+00],\n",
       "       [ 5.45092155e+00,  9.98648851e+00],\n",
       "       [-4.36235088e+00, -3.83037970e+00],\n",
       "       [ 5.16729944e+00, -7.24304098e+00],\n",
       "       [ 6.13417884e+00, -8.73310786e+00],\n",
       "       [-8.76304588e+00, -2.08268602e+00],\n",
       "       [-5.50716132e+00, -5.69669787e+00],\n",
       "       [-7.40200672e+00, -6.01491811e-01],\n",
       "       [-5.00184327e+00, -4.14955288e+00],\n",
       "       [-3.61525271e+00, -4.77413586e+00],\n",
       "       [-3.85249464e+00, -1.68490336e+00],\n",
       "       [ 6.86340603e+00, -7.82832607e+00],\n",
       "       [ 6.41670042e+00, -9.99190332e+00],\n",
       "       [ 7.23199425e+00,  8.93838237e+00],\n",
       "       [ 7.14438836e+00,  9.56245528e+00],\n",
       "       [ 8.29220495e+00,  6.68272668e+00],\n",
       "       [ 6.31360809e+00, -9.27320506e+00],\n",
       "       [-4.90609520e+00, -3.20202219e+00],\n",
       "       [ 7.38077059e+00,  7.92174677e+00],\n",
       "       [ 5.51133149e+00,  8.09203020e+00],\n",
       "       [-8.43114963e+00, -1.10141536e+00],\n",
       "       [-4.44283885e+00, -4.05059871e+00],\n",
       "       [ 6.01924323e+00,  7.93724886e+00],\n",
       "       [-3.00937234e+00, -2.61632548e+00],\n",
       "       [-2.89409097e+00, -3.71224373e+00],\n",
       "       [ 7.22034115e+00, -8.89915291e+00],\n",
       "       [ 5.42952412e+00,  7.73232587e+00],\n",
       "       [-4.07599635e+00, -4.61324721e+00],\n",
       "       [-1.04662553e+01, -8.09541451e-01],\n",
       "       [-3.21108909e+00, -1.75664247e+00],\n",
       "       [-5.51110475e+00, -4.30262946e+00],\n",
       "       [ 4.56878874e+00,  9.51954172e+00],\n",
       "       [-4.40120001e+00, -3.79216793e+00],\n",
       "       [ 6.69614022e+00, -1.00854833e+01],\n",
       "       [ 6.57308668e+00,  7.67061758e+00],\n",
       "       [-8.73203683e+00, -1.90057075e+00],\n",
       "       [-3.94210209e+00, -5.73810264e+00],\n",
       "       [ 4.95493697e+00, -8.10679362e+00],\n",
       "       [ 6.39422600e+00, -8.63763505e+00],\n",
       "       [-9.10512643e+00, -3.31551958e+00],\n",
       "       [ 7.98115297e+00, -7.91859019e+00],\n",
       "       [-1.00980840e+01, -6.76547561e-01],\n",
       "       [ 7.08866275e+00,  7.16245930e+00],\n",
       "       [-3.80144903e+00, -9.74074131e-01],\n",
       "       [-8.28378533e+00, -2.27564894e+00],\n",
       "       [ 6.31246747e+00,  6.46530796e+00],\n",
       "       [ 5.43067822e+00, -8.50310721e+00],\n",
       "       [-5.64637680e+00, -2.16149136e+00],\n",
       "       [ 7.35102740e+00, -9.25673082e+00],\n",
       "       [-2.72987188e+00, -3.65840612e+00],\n",
       "       [ 4.54683509e+00,  8.01413553e+00],\n",
       "       [-8.59725805e+00, -1.31151480e+00],\n",
       "       [ 7.39298072e+00, -7.56497930e+00],\n",
       "       [ 4.24643088e+00, -9.38843754e+00],\n",
       "       [-8.26545848e+00, -1.96979987e+00],\n",
       "       [ 4.44883293e+00, -8.47706335e+00],\n",
       "       [-4.33602328e+00, -3.90446044e+00],\n",
       "       [-5.10165433e+00, -2.57223569e+00],\n",
       "       [-5.80961081e+00, -2.59743295e+00],\n",
       "       [ 5.76560239e+00,  7.67489557e+00],\n",
       "       [ 5.12798401e+00, -9.45078913e+00],\n",
       "       [-8.19541177e+00, -2.55274749e+00],\n",
       "       [ 5.99000765e+00, -9.00580278e+00],\n",
       "       [-5.35237617e+00, -3.31319699e+00],\n",
       "       [ 4.46439548e+00, -1.15193686e+01],\n",
       "       [ 6.11145698e+00, -8.63437325e+00],\n",
       "       [ 4.92503419e+00, -8.13407613e+00],\n",
       "       [-8.38937481e+00, -1.60932320e-01],\n",
       "       [ 6.85730681e+00,  9.07020349e+00],\n",
       "       [-5.32760440e+00, -3.81101640e+00],\n",
       "       [-8.41113126e+00,  5.07571879e-01],\n",
       "       [ 7.09275071e+00, -8.36735979e+00],\n",
       "       [ 7.07544192e+00,  9.37532910e+00],\n",
       "       [-4.17414160e+00, -3.41585394e+00],\n",
       "       [ 6.54868587e+00, -9.16523624e+00],\n",
       "       [-4.25923924e+00, -1.89888188e+00],\n",
       "       [-3.64763091e+00, -5.76846278e+00],\n",
       "       [-9.16168723e+00, -1.03838133e+00],\n",
       "       [-5.39413452e+00, -3.12646590e+00],\n",
       "       [-1.00354862e+01, -9.49100385e-02],\n",
       "       [ 6.10979533e+00,  8.49535147e+00],\n",
       "       [-4.42272995e+00, -3.58444514e+00],\n",
       "       [-3.91494889e+00, -4.04019466e+00],\n",
       "       [ 6.62960725e+00, -9.62140593e+00],\n",
       "       [ 7.65734272e+00,  8.07300668e+00],\n",
       "       [-9.07863850e+00, -3.31481608e+00],\n",
       "       [-5.26620042e+00, -3.66895115e+00],\n",
       "       [ 6.52025114e+00, -7.44872622e+00],\n",
       "       [ 7.25354385e+00, -7.83287096e+00],\n",
       "       [ 6.76508779e+00, -9.61012304e+00],\n",
       "       [ 5.68927459e+00, -6.15932673e+00],\n",
       "       [-9.20682036e+00, -3.68496255e-01],\n",
       "       [-5.25965224e+00, -4.40843468e+00],\n",
       "       [ 7.62376274e+00, -8.91265833e+00],\n",
       "       [-9.68722194e+00, -1.81528468e+00],\n",
       "       [ 5.30135646e+00, -9.12582755e+00],\n",
       "       [ 7.66329386e+00,  6.21389676e+00],\n",
       "       [-8.86166071e+00, -1.93055706e+00],\n",
       "       [-5.18191898e+00, -2.42172557e+00],\n",
       "       [ 5.63842515e+00,  8.36227640e+00],\n",
       "       [-7.86151480e+00, -5.31317456e-01],\n",
       "       [ 5.01285887e+00,  9.71340184e+00],\n",
       "       [ 5.53494149e+00, -8.41085719e+00],\n",
       "       [-4.69339381e+00, -4.15441111e+00],\n",
       "       [-8.63773583e+00, -8.97934471e-01],\n",
       "       [ 6.79921515e+00,  6.94065278e+00]])"
      ]
     },
     "execution_count": 125,
     "metadata": {},
     "output_type": "execute_result"
    }
   ],
   "source": [
    "print(y)\n",
    "print(len(y))\n",
    "X"
   ]
  },
  {
   "cell_type": "code",
   "execution_count": 126,
   "id": "2dda663d",
   "metadata": {},
   "outputs": [
    {
     "data": {
      "text/plain": [
       "<matplotlib.collections.PathCollection at 0x25af4d68f40>"
      ]
     },
     "execution_count": 126,
     "metadata": {},
     "output_type": "execute_result"
    },
    {
     "data": {
      "image/png": "[encoded data removed]",
      "text/plain": [
       "<Figure size 640x480 with 1 Axes>"
      ]
     },
     "metadata": {},
     "output_type": "display_data"
    }
   ],
   "source": [
    "plt.scatter(X[:,0],X[:,1],s=20,c=y)"
   ]
  },
  {
   "cell_type": "code",
   "execution_count": null,
   "id": "1edb3ee9",
   "metadata": {},
   "outputs": [],
   "source": []
  },
  {
   "cell_type": "code",
   "execution_count": 127,
   "id": "10207c6b",
   "metadata": {},
   "outputs": [
    {
     "data": {
      "text/plain": [
       "Text(0, 0.5, 'Y')"
      ]
     },
     "execution_count": 127,
     "metadata": {},
     "output_type": "execute_result"
    },
    {
     "data": {
      "image/png": "[encoded data removed]",
      "text/plain": [
       "<Figure size 640x480 with 1 Axes>"
      ]
     },
     "metadata": {},
     "output_type": "display_data"
    }
   ],
   "source": [
    "# Creating Test DataSets using sklearn.datasets.make_moons\n",
    "from sklearn.datasets import make_moons\n",
    "from matplotlib import pyplot as plt\n",
    "from matplotlib import style\n",
    "\n",
    "\n",
    "X, y = make_moons(n_samples = 500,noise=.09)\n",
    "\n",
    "plt.scatter(X[:, 0], X[:, 1], s = 20, c=y)\n",
    "plt.xlabel(\"X\")\n",
    "plt.ylabel(\"Y\")"
   ]
  },
  {
   "cell_type": "code",
   "execution_count": 132,
   "id": "1bdd699a",
   "metadata": {},
   "outputs": [
    {
     "data": {
      "text/plain": [
       "<matplotlib.collections.PathCollection at 0x25af2e47700>"
      ]
     },
     "execution_count": 132,
     "metadata": {},
     "output_type": "execute_result"
    },
    {
     "data": {
      "image/png": "[encoded data removed]",
      "text/plain": [
       "<Figure size 640x480 with 1 Axes>"
      ]
     },
     "metadata": {},
     "output_type": "display_data"
    }
   ],
   "source": [
    "from sklearn.datasets import make_circles\n",
    "X,y = make_circles(n_samples=500,noise=.08)\n",
    "plt.scatter(X[:,0],X[:,1],s=20,color='r')"
   ]
  },
  {
   "cell_type": "code",
   "execution_count": 147,
   "id": "7b5bb360",
   "metadata": {},
   "outputs": [
    {
     "data": {
      "text/plain": [
       "<matplotlib.collections.PathCollection at 0x25afa22b370>"
      ]
     },
     "execution_count": 147,
     "metadata": {},
     "output_type": "execute_result"
    },
    {
     "data": {
      "image/png": "[encoded data removed]",
      "text/plain": [
       "<Figure size 640x480 with 1 Axes>"
      ]
     },
     "metadata": {},
     "output_type": "display_data"
    }
   ],
   "source": [
    "from sklearn.datasets import make_classification\n",
    "x,y = make_classification(n_samples = 500,\n",
    "                           n_features=2,\n",
    "                           n_redundant=0,\n",
    "                           n_informative=2,\n",
    "                           n_repeated=0,\n",
    "                           n_classes =3,\n",
    "                           n_clusters_per_class=1)\n",
    "plt.scatter(x[:,0],x[:,1],c=y)"
   ]
  },
  {
   "cell_type": "code",
   "execution_count": 165,
   "id": "6c088a5c",
   "metadata": {},
   "outputs": [
    {
     "data": {
      "text/html": [
       "<div>\n",
       "<style scoped>\n",
       "    .dataframe tbody tr th:only-of-type {\n",
       "        vertical-align: middle;\n",
       "    }\n",
       "\n",
       "    .dataframe tbody tr th {\n",
       "        vertical-align: top;\n",
       "    }\n",
       "\n",
       "    .dataframe thead th {\n",
       "        text-align: right;\n",
       "    }\n",
       "</style>\n",
       "<table border=\"1\" class=\"dataframe\">\n",
       "  <thead>\n",
       "    <tr style=\"text-align: right;\">\n",
       "      <th></th>\n",
       "      <th>X1</th>\n",
       "      <th>X2</th>\n",
       "      <th>X3</th>\n",
       "      <th>Label1</th>\n",
       "      <th>Label2</th>\n",
       "      <th>Label3</th>\n",
       "    </tr>\n",
       "  </thead>\n",
       "  <tbody>\n",
       "    <tr>\n",
       "      <th>0</th>\n",
       "      <td>19.0</td>\n",
       "      <td>22.0</td>\n",
       "      <td>8.0</td>\n",
       "      <td>1</td>\n",
       "      <td>0</td>\n",
       "      <td>1</td>\n",
       "    </tr>\n",
       "    <tr>\n",
       "      <th>1</th>\n",
       "      <td>12.0</td>\n",
       "      <td>13.0</td>\n",
       "      <td>15.0</td>\n",
       "      <td>1</td>\n",
       "      <td>1</td>\n",
       "      <td>0</td>\n",
       "    </tr>\n",
       "    <tr>\n",
       "      <th>2</th>\n",
       "      <td>14.0</td>\n",
       "      <td>14.0</td>\n",
       "      <td>19.0</td>\n",
       "      <td>1</td>\n",
       "      <td>1</td>\n",
       "      <td>1</td>\n",
       "    </tr>\n",
       "    <tr>\n",
       "      <th>3</th>\n",
       "      <td>12.0</td>\n",
       "      <td>21.0</td>\n",
       "      <td>11.0</td>\n",
       "      <td>0</td>\n",
       "      <td>1</td>\n",
       "      <td>1</td>\n",
       "    </tr>\n",
       "    <tr>\n",
       "      <th>4</th>\n",
       "      <td>11.0</td>\n",
       "      <td>14.0</td>\n",
       "      <td>16.0</td>\n",
       "      <td>1</td>\n",
       "      <td>1</td>\n",
       "      <td>0</td>\n",
       "    </tr>\n",
       "  </tbody>\n",
       "</table>\n",
       "</div>"
      ],
      "text/plain": [
       "     X1    X2    X3  Label1  Label2  Label3\n",
       "0  19.0  22.0   8.0       1       0       1\n",
       "1  12.0  13.0  15.0       1       1       0\n",
       "2  14.0  14.0  19.0       1       1       1\n",
       "3  12.0  21.0  11.0       0       1       1\n",
       "4  11.0  14.0  16.0       1       1       0"
      ]
     },
     "metadata": {},
     "output_type": "display_data"
    },
    {
     "data": {
      "image/png": "[encoded data removed]",
      "text/plain": [
       "<Figure size 640x480 with 1 Axes>"
      ]
     },
     "metadata": {},
     "output_type": "display_data"
    }
   ],
   "source": [
    "# Import necessary libraries\n",
    "from sklearn.datasets import make_multilabel_classification\n",
    "import pandas as pd\n",
    "import matplotlib.pyplot as plt\n",
    "\n",
    "# Generate 2d classification dataset\n",
    "X, y = make_multilabel_classification(n_samples=500, n_features=3,n_classes=3, n_labels=3,allow_unlabeled=True,random_state=0)\n",
    "# create pandas dataframe from generated dataset\n",
    "df = pd.concat([pd.DataFrame(X, columns=['X1', 'X2','X3']),pd.DataFrame(y, columns=['Label1', 'Label2','Label3'])],axis=1)\n",
    "display(df.head())\n",
    "\n",
    "# Plot the generated datasets\n",
    "plt.scatter(df['X1'], df['X2'], c=df['Label3'])\n",
    "plt.show()\n"
   ]
  },
  {
   "cell_type": "code",
   "execution_count": 158,
   "id": "8e578f64",
   "metadata": {},
   "outputs": [
    {
     "data": {
      "text/plain": [
       "<matplotlib.collections.PathCollection at 0x25afbab2cb0>"
      ]
     },
     "execution_count": 158,
     "metadata": {},
     "output_type": "execute_result"
    },
    {
     "data": {
      "image/png": "[encoded data removed]",
      "text/plain": [
       "<Figure size 640x480 with 1 Axes>"
      ]
     },
     "metadata": {},
     "output_type": "display_data"
    }
   ],
   "source": [
    "from sklearn.datasets import make_regression\n",
    "x,y = make_regression(n_samples=100,n_features=1,noise=1)\n",
    "plt.scatter(x,y,color='b')"
   ]
  },
  {
   "cell_type": "code",
   "execution_count": null,
   "id": "0c4c889c",
   "metadata": {},
   "outputs": [],
   "source": []
  }
 ],
 "metadata": {
  "kernelspec": {
   "display_name": "Python 3 (ipykernel)",
   "language": "python",
   "name": "python3"
  },
  "language_info": {
   "codemirror_mode": {
    "name": "ipython",
    "version": 3
   },
   "file_extension": ".py",
   "mimetype": "text/x-python",
   "name": "python",
   "nbconvert_exporter": "python",
   "pygments_lexer": "ipython3",
   "version": "3.11.4"
  }
 },
 "nbformat": 4,
 "nbformat_minor": 5
}
