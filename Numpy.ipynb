{
 "cells": [
  {
   "cell_type": "code",
   "execution_count": 1,
   "id": "56358181",
   "metadata": {},
   "outputs": [
    {
     "name": "stdout",
     "output_type": "stream",
     "text": [
      "Available Themes: \n",
      "   chesterish\n",
      "   grade3\n",
      "   gruvboxd\n",
      "   gruvboxl\n",
      "   monokai\n",
      "   oceans16\n",
      "   onedork\n",
      "   solarizedd\n",
      "   solarizedl\n"
     ]
    }
   ],
   "source": [
    "!jt -l"
   ]
  },
  {
   "cell_type": "code",
   "execution_count": 2,
   "id": "0618819d",
   "metadata": {},
   "outputs": [],
   "source": [
    "!jt -t monokai"
   ]
  },
  {
   "cell_type": "markdown",
   "id": "f9a8aa1a",
   "metadata": {},
   "source": [
    "# Numpy"
   ]
  },
  {
   "cell_type": "markdown",
   "id": "25664f2f",
   "metadata": {},
   "source": [
    "NumPy is an amazing scientific computing library that is used by numerous other Python Data Science libraries. It contains many mathematical, array and string functions that are extremely useful. Along with all the basic math functions you'll also find them for Linear Algebra, Statistics, Simulation, etc.\n",
    "\n",
    "NumPy utilizes vector (1D Arrays) and matrice arrays (2D Arrays)."
   ]
  },
  {
   "cell_type": "code",
   "execution_count": 3,
   "id": "646c4e83",
   "metadata": {},
   "outputs": [],
   "source": [
    "import numpy as np\n",
    "import matplotlib.pyplot as plt\n",
    "from numpy import random\n",
    "\n",
    "%reload_ext autoreload"
   ]
  },
  {
   "cell_type": "markdown",
   "id": "a2b88ef8",
   "metadata": {},
   "source": [
    "# Data type and Creating array"
   ]
  },
  {
   "cell_type": "code",
   "execution_count": 4,
   "id": "e5b85e03",
   "metadata": {},
   "outputs": [],
   "source": [
    "list = {1,2,3,4,5}\n",
    "arry = np.array(list)\n",
    "arry\n",
    "np.arange(1,10)\n",
    "# it print ramdom float numbers (START,END,NUMBERS OF VALUES) \n",
    "np.linspace(1,10,5)\n",
    "np.zeros(0)\n",
    "# it print zero values arrays\n",
    "np.zeros((2,3))\n",
    "# it print one value arrays  \n",
    "np.ones((2,3))\n",
    "# Data Types\n",
    "# Boolean : np.bool_\n",
    "# Char : np.byte\n",
    "# Short : np.short\n",
    "# Integer : np.short\n",
    "# Long : np.int_\n",
    "# Float : np.single & np.float32\n",
    "# Double : np.double & np.float64\n",
    "# np.int8 : -128 to 127\n",
    "# np.int16 : -32768 to 32767\n",
    "# np.int32 : -2147483648 to 2147483647\n",
    "# np.int64 : -9223372036854775808 to 9223372036854775807\n",
    "\n",
    "# it prints ramdom numbers ramdom.randint(start number,end number)\n",
    "np.random.randint(1,10,15)\n",
    "# it print random arrays by using size(ros,coloumns)\n",
    "np.random.randint(10,50,size=(10,3))\n",
    "# information about ramdm.randint\n",
    "np.random.rand?"
   ]
  },
  {
   "cell_type": "markdown",
   "id": "b0f64a1e",
   "metadata": {},
   "source": [
    "# Slicing & Indexes"
   ]
  },
  {
   "cell_type": "code",
   "execution_count": 5,
   "id": "1f5e2f8a",
   "metadata": {},
   "outputs": [
    {
     "data": {
      "text/plain": [
       "array([[2, 3, 3],\n",
       "       [4, 4, 2],\n",
       "       [4, 2, 4]])"
      ]
     },
     "execution_count": 5,
     "metadata": {},
     "output_type": "execute_result"
    }
   ],
   "source": [
    "np_arr = np.random.randint(2,5,size=(3,3))\n",
    "np_arr"
   ]
  },
  {
   "cell_type": "code",
   "execution_count": 6,
   "id": "ce91dbcf",
   "metadata": {},
   "outputs": [
    {
     "data": {
      "text/plain": [
       "array([0, 2, 3, 4])"
      ]
     },
     "execution_count": 6,
     "metadata": {},
     "output_type": "execute_result"
    }
   ],
   "source": [
    "# shape of the array\n",
    "np_arr.shape\n",
    "# it print  place of the number by index number\n",
    "np_arr.item(0,2)\n",
    "np.take(np_arr,[0,3,6])\n",
    "# we can change the number by using put function\n",
    "np.put(np_arr,[1,4,7],[0,0,0])\n",
    "np_arr\n",
    "# print row we want\n",
    "np_arr[:,2]\n",
    "# get even numbers from the set\n",
    "even = np_arr[np_arr%2==0]\n",
    "even\n",
    "# get numbers greater than 3\n",
    "greater_than_3 = np_arr[np_arr>3]\n",
    "greater_than_3\n",
    "np_arr[(np_arr<4) & (np_arr>2)]\n",
    " # get unique values from the set\n",
    "np.unique(np_arr)"
   ]
  },
  {
   "cell_type": "markdown",
   "id": "e4b0572c",
   "metadata": {},
   "source": [
    "# Reshaping arrays"
   ]
  },
  {
   "cell_type": "code",
   "execution_count": 7,
   "id": "cffa4dc2",
   "metadata": {},
   "outputs": [
    {
     "data": {
      "text/plain": [
       "array([[3, 4, 4],\n",
       "       [2, 2, 2],\n",
       "       [3, 3, 4]])"
      ]
     },
     "execution_count": 7,
     "metadata": {},
     "output_type": "execute_result"
    }
   ],
   "source": [
    "np_arr = np.random.randint(2,5,size=(3,3))\n",
    "np_arr"
   ]
  },
  {
   "cell_type": "code",
   "execution_count": 8,
   "id": "d58c37d8",
   "metadata": {},
   "outputs": [
    {
     "data": {
      "text/plain": [
       "array([[2, 2, 2],\n",
       "       [3, 3, 4],\n",
       "       [3, 4, 4]])"
      ]
     },
     "execution_count": 8,
     "metadata": {},
     "output_type": "execute_result"
    }
   ],
   "source": [
    "# resahpe the array\n",
    "np_arr.reshape((1,9))\n",
    "# resize the array \n",
    "# If the new array is larger than the original array, \n",
    "#then the new array is filled with repeated copies of the original array\n",
    "np.resize(np_arr,(2,3))\n",
    "np.resize(np_arr,(3,4))\n",
    "# that reverses or permutes the dimensions of an array.\n",
    "# It returns a view of the original array with the axes transposed\n",
    "a = np.array([[0, 1], [2, 3],[4,5]])\n",
    "a.transpose()\n",
    "# It takes a tuple of two axis numbers as an argument and returns an array with the axis\n",
    "a = np.array([[[0, 1], [2, 3]], [[4, 5], [6, 7]]])\n",
    "#print(\"Original array:\\n\", a)\n",
    "b = np.swapaxes(a, 0, 2)\n",
    "#print(\"\\nSwapped array:\\n\", b)\n",
    "# flat the values in single row\n",
    "np_arr.flatten('F')\n",
    "#print(\"\\nnp_arr: \",np_arr)\n",
    "np_arr.sort(axis=0)\n",
    "np_arr"
   ]
  },
  {
   "cell_type": "markdown",
   "id": "f7244bd4",
   "metadata": {},
   "source": [
    "# Stacking & Splitting"
   ]
  },
  {
   "cell_type": "code",
   "execution_count": 9,
   "id": "29d088be",
   "metadata": {},
   "outputs": [
    {
     "name": "stdout",
     "output_type": "stream",
     "text": [
      "np_arr_1:\n",
      " [[8 3]\n",
      " [7 4]]\n",
      "\n",
      "np_arr_2:\n",
      " [[4 9]\n",
      " [3 4]]\n",
      "np_arr_5:\n",
      " [[6 1 9 4 9 4 2 6 1 9]\n",
      " [8 6 7 6 4 4 9 2 6 5]]\n"
     ]
    },
    {
     "data": {
      "text/plain": [
       "[array([[6, 1],\n",
       "        [8, 6]]),\n",
       " array([[9, 4],\n",
       "        [7, 6]]),\n",
       " array([[9, 4],\n",
       "        [4, 4]]),\n",
       " array([[2, 6],\n",
       "        [9, 2]]),\n",
       " array([[1, 9],\n",
       "        [6, 5]])]"
      ]
     },
     "execution_count": 9,
     "metadata": {},
     "output_type": "execute_result"
    }
   ],
   "source": [
    "np_arr_1 = np.random.randint(1,10,size=(2,2))\n",
    "print('np_arr_1:\\n',np_arr_1)\n",
    "np_arr_2 = np.random.randint(1,10,size=(2,2))\n",
    "print('\\nnp_arr_2:\\n',np_arr_2)\n",
    "# add the two arry in horizontal by using hstack and vstack for vertical \n",
    "ak = np.hstack((np_arr_1,np_arr_2))\n",
    "ak\n",
    "ak_1 = np.delete(np_arr_2,1,0)\n",
    "ak_1\n",
    "np_arr_5 = np.random.randint(1,10,size=(2,10))\n",
    "print('np_arr_5:\\n',np_arr_5)\n",
    "\n",
    "np.hsplit(np_arr_5,5)"
   ]
  },
  {
   "cell_type": "markdown",
   "id": "be51af0a",
   "metadata": {},
   "source": [
    " # Copying"
   ]
  },
  {
   "cell_type": "code",
   "execution_count": 10,
   "id": "8f5ce36e",
   "metadata": {},
   "outputs": [
    {
     "name": "stdout",
     "output_type": "stream",
     "text": [
      "[[0 6]\n",
      " [5 1]]\n"
     ]
    },
    {
     "data": {
      "text/plain": [
       "array([[0, 6],\n",
       "       [5, 1]])"
      ]
     },
     "execution_count": 10,
     "metadata": {},
     "output_type": "execute_result"
    }
   ],
   "source": [
    "cp_arr_1 = random.randint(10,size=(2,2))\n",
    "print(cp_arr_1)\n",
    "# Copy and create new array\n",
    "cp_arr_3 = cp_arr_1.copy()\n",
    "cp_arr_2 = cp_arr_1.copy()\n",
    "cp_arr_2"
   ]
  },
  {
   "cell_type": "markdown",
   "id": "dd2b8aad",
   "metadata": {},
   "source": [
    " # Basic Math"
   ]
  },
  {
   "cell_type": "code",
   "execution_count": 19,
   "id": "a7767a40",
   "metadata": {},
   "outputs": [
    {
     "name": "stdout",
     "output_type": "stream",
     "text": [
      "[[6 0]\n",
      " [2 8]]\n",
      "[[6 0]\n",
      " [2 8]]\n"
     ]
    },
    {
     "data": {
      "text/plain": [
       "array([[279936,      0],\n",
       "       [     8,     64]])"
      ]
     },
     "execution_count": 19,
     "metadata": {},
     "output_type": "execute_result"
    }
   ],
   "source": [
    "mat_arr_1 = random.randint(10,size=(2,2))\n",
    "#print(\"mat_arr_1\\n:\",mat_arr_1)\n",
    "mat_arr_2 =random.randint(10,size=(2,2))\n",
    "#print(\"\\nmat_arr_2\\n:\",mat_arr_2)\n",
    "# substraction\n",
    "mat_arr_1 - mat_arr_2\n",
    "# addition\n",
    "mat_arr_1 + mat_arr_2\n",
    "# multi\n",
    "mat_arr_1 * mat_arr_2\n",
    "# random picking numbers\n",
    "maths = [2,3,5,7,6]\n",
    "random.choice(maths)\n",
    "names= ['koti','teja','shiva','srinu','gopi','father','abhi','nagi','koushik','thallu']\n",
    "random.choice(names)\n",
    "mat_arr_1.sum()\n",
    "mat_arr_1.mean()\n",
    "# sum coloumns &  sum rows axis=1\n",
    "mat_arr_1.sum(axis=0)\n",
    "# min & max \n",
    "mat_arr_1.max(axis=0)\n",
    "# adding values to array sets\n",
    "print(mat_arr_1)\n",
    "print(mat_arr_1)\n",
    "np.add(mat_arr_1,2)\n",
    "np.add(mat_arr_1,mat_arr_2)\n",
    "np.square(mat_arr_1)\n",
    "np.power(mat_arr_1,mat_arr_2)"
   ]
  },
  {
   "cell_type": "markdown",
   "id": "4624d4aa",
   "metadata": {},
   "source": [
    "# Reading from Files"
   ]
  },
  {
   "cell_type": "code",
   "execution_count": 75,
   "id": "a7913694",
   "metadata": {},
   "outputs": [
    {
     "data": {
      "text/plain": [
       "[array([ 37, 292], dtype=int64),\n",
       " array([ 40, 228], dtype=int64),\n",
       " array([ 49, 324], dtype=int64),\n",
       " array([ 61, 376], dtype=int64),\n",
       " array([ 72, 440], dtype=int64),\n",
       " array([ 79, 496], dtype=int64),\n",
       " array([ 83, 536], dtype=int64),\n",
       " array([ 81, 556], dtype=int64),\n",
       " array([ 75, 496], dtype=int64),\n",
       " array([ 64, 412], dtype=int64),\n",
       " array([ 53, 324], dtype=int64),\n",
       " array([ 40, 320], dtype=int64)]"
      ]
     },
     "execution_count": 75,
     "metadata": {},
     "output_type": "execute_result"
    }
   ],
   "source": [
    "# Pandas is used to manipulate tabular data and more\n",
    "import pandas as pd\n",
    "# Import using NumPy\n",
    "from numpy import genfromtxt\n",
    "\n",
    "# Read table of data from CSV file and convert to Numpy array\n",
    "ic_sales = pd.read_excel(r\"C:\\Users\\kotesh\\OneDrive\\Documents\\weather.xlsx\",sheet_name='Sheet2').to_numpy()\n",
    "ic_sales\n",
    "\n",
    "# Read data using NumPy\n",
    "# ic_sales_2 = genfromtxt(\"ice_creams.xlsx\",delimiter=',')\n",
    "# ic_sales_2\n",
    "# # Remove NANs\n",
    "ic_sales = [row[~np.isnan(row)] for row in ic_sales]\n",
    "ic_sales"
   ]
  },
  {
   "cell_type": "markdown",
   "id": "ee886bd0",
   "metadata": {},
   "source": [
    "# Statistics Function"
   ]
  },
  {
   "cell_type": "code",
   "execution_count": 86,
   "id": "5facd25c",
   "metadata": {},
   "outputs": [
    {
     "ename": "TypeError",
     "evalue": "list indices must be integers or slices, not tuple",
     "output_type": "error",
     "traceback": [
      "\u001b[1;31m---------------------------------------------------------------------------\u001b[0m",
      "\u001b[1;31mTypeError\u001b[0m                                 Traceback (most recent call last)",
      "Cell \u001b[1;32mIn[86], line 8\u001b[0m\n\u001b[0;32m      6\u001b[0m np\u001b[38;5;241m.\u001b[39mvar(s_1)\n\u001b[0;32m      7\u001b[0m \u001b[38;5;66;03m# find the corelation between them np.corrcoef\u001b[39;00m\n\u001b[1;32m----> 8\u001b[0m np\u001b[38;5;241m.\u001b[39mcorrcoef(\u001b[43mic_sales\u001b[49m\u001b[43m[\u001b[49m\u001b[43m:\u001b[49m\u001b[43m,\u001b[49m\u001b[38;5;241;43m1\u001b[39;49m\u001b[43m]\u001b[49m, ic_sales[:,\u001b[38;5;241m0\u001b[39m])\n",
      "\u001b[1;31mTypeError\u001b[0m: list indices must be integers or slices, not tuple"
     ]
    }
   ],
   "source": [
    "s_1 = np.arange(1,6)\n",
    "np.mean(s_1)\n",
    "np.median(s_1)\n",
    "np.average(s_1)\n",
    "np.std(s_1)\n",
    "np.var(s_1)\n",
    "# find the corelation between them np.corrcoef\n",
    "#np.corrcoef(ic_sales[:,1], ic_sales[:,0])\n",
    "\n",
    "\n",
    "#  Calculating Regression line\n",
    "# # Σ(x-x̅)*(y-ȳ) / Σ(x-x̅)2\n",
    "# temp_mean = np.mean(ic_sales[:,0])\n",
    "# sales_mean = np.mean(ic_sales[:,1])\n",
    "# numerator = np.sum(((ic_sales[:,0] - temp_mean)*(ic_sales[:,1] - sales_mean)))\n",
    "# denominator = np.sum(np.square(ic_sales[:,0] - temp_mean))\n",
    "# slope = numerator/denominator\n",
    "# # Calculate y intercept\n",
    "# y_i = sales_mean - slope * temp_mean\n",
    "# y_i\n",
    "# reg_arr = ic_sales[:,0] * slope + y_i\n",
    "# reg_arr\n"
   ]
  },
  {
   "cell_type": "code",
   "execution_count": 93,
   "id": "9a2f1fe2",
   "metadata": {},
   "outputs": [
    {
     "data": {
      "text/plain": [
       "Text(0.5, 1.0, 'Graph')"
      ]
     },
     "execution_count": 93,
     "metadata": {},
     "output_type": "execute_result"
    },
    {
     "data": {
      "image/png": "[encoded data removed]",
      "text/plain": [
       "<Figure size 640x480 with 1 Axes>"
      ]
     },
     "metadata": {},
     "output_type": "display_data"
    }
   ],
   "source": [
    "t_arr = np.linspace(-np.pi,np.pi,200)\n",
    "plt.plot(t_arr,np.tan(t_arr)) # sin,# cos,#tan\n",
    "plt.title('Graph')"
   ]
  },
  {
   "cell_type": "markdown",
   "id": "2bf813d5",
   "metadata": {},
   "source": [
    "# Save & Loading Numpy Object"
   ]
  },
  {
   "cell_type": "code",
   "execution_count": 115,
   "id": "9048b7b2",
   "metadata": {},
   "outputs": [
    {
     "data": {
      "text/plain": [
       "array([[1, 2],\n",
       "       [3, 4],\n",
       "       [5, 6]])"
      ]
     },
     "execution_count": 115,
     "metadata": {},
     "output_type": "execute_result"
    }
   ],
   "source": [
    "arr_1 = np.array([[1,2],[3,4],[5,6]])\n",
    "# Save as .npy file\n",
    "np.save('koti_17',arr_1)\n",
    "# load saved array\n",
    "arr_2 = np.load('koti_17.npy')\n",
    "arr_2\n",
    "\n"
   ]
  },
  {
   "cell_type": "code",
   "execution_count": 122,
   "id": "10265446",
   "metadata": {},
   "outputs": [
    {
     "data": {
      "text/plain": [
       "array([[1., 2.],\n",
       "       [3., 4.],\n",
       "       [5., 6.],\n",
       "       [7., 8.]])"
      ]
     },
     "execution_count": 122,
     "metadata": {},
     "output_type": "execute_result"
    }
   ],
   "source": [
    "arr_3 = np.array([[1,2],[3,4],[5,6],[7,8]])\n",
    "# save as csv file\n",
    "np.savetxt('kotesh_17.csv',arr_3)\n",
    "# load saved csv file\n",
    "arr_4 = np.loadtxt('kotesh_17.csv')\n",
    "arr_4"
   ]
  },
  {
   "cell_type": "code",
   "execution_count": 123,
   "id": "1e271de2",
   "metadata": {},
   "outputs": [
    {
     "name": "stdout",
     "output_type": "stream",
     "text": [
      "Collecting numpy_financial\n",
      "  Downloading numpy_financial-1.0.0-py3-none-any.whl (14 kB)\n",
      "Requirement already satisfied: numpy>=1.15 in c:\\users\\kotesh\\anaconda3\\lib\\site-packages (from numpy_financial) (1.23.5)\n",
      "Installing collected packages: numpy_financial\n",
      "Successfully installed numpy_financial-1.0.0\n"
     ]
    }
   ],
   "source": [
    "!pip install numpy_financial"
   ]
  },
  {
   "cell_type": "code",
   "execution_count": 124,
   "id": "7ef75d5c",
   "metadata": {},
   "outputs": [],
   "source": [
    "import numpy_financial as npf"
   ]
  },
  {
   "cell_type": "code",
   "execution_count": null,
   "id": "d26f67ee",
   "metadata": {},
   "outputs": [],
   "source": []
  }
 ],
 "metadata": {
  "kernelspec": {
   "display_name": "Python 3 (ipykernel)",
   "language": "python",
   "name": "python3"
  },
  "language_info": {
   "codemirror_mode": {
    "name": "ipython",
    "version": 3
   },
   "file_extension": ".py",
   "mimetype": "text/x-python",
   "name": "python",
   "nbconvert_exporter": "python",
   "pygments_lexer": "ipython3",
   "version": "3.10.9"
  }
 },
 "nbformat": 4,
 "nbformat_minor": 5
}
